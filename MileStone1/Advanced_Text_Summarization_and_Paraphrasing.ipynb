{
  "nbformat": 4,
  "nbformat_minor": 0,
  "metadata": {
    "colab": {
      "provenance": [],
      "gpuType": "T4"
    },
    "kernelspec": {
      "name": "python3",
      "display_name": "Python 3"
    },
    "language_info": {
      "name": "python"
    },
    "accelerator": "GPU"
  },
  "cells": [
    {
      "cell_type": "code",
      "source": [
        "!pip install transformers torch nltk matplotlib sentence-transformers --quiet\n"
      ],
      "metadata": {
        "id": "O77BICZ91zeq"
      },
      "execution_count": 1,
      "outputs": []
    },
    {
      "cell_type": "markdown",
      "source": [
        "**Importing libraries**:os, nltk, matplotlib, transformers, sentence_transformers\n",
        "\n",
        "Used for NLP tasks like tokenization, text processing, and visualization\n",
        "\n",
        "---\n",
        "\n",
        "\n",
        "\n",
        "nltk.download('punkt') → downloads tokenizer data for sentence splitting"
      ],
      "metadata": {
        "id": "Wb3Wj3LR5UKM"
      }
    },
    {
      "cell_type": "code",
      "source": [
        "import os\n",
        "import nltk\n",
        "import matplotlib.pyplot as plt\n",
        "from transformers import pipeline, AutoTokenizer, AutoModelForSeq2SeqLM\n",
        "from sentence_transformers import SentenceTransformer, util\n",
        "\n",
        "# Download tokenizer data\n",
        "nltk.download('punkt')"
      ],
      "metadata": {
        "colab": {
          "base_uri": "https://localhost:8080/"
        },
        "id": "b38bbW1B6V1E",
        "outputId": "fedff6d9-95b9-456e-8933-11a16c362b29"
      },
      "execution_count": 2,
      "outputs": [
        {
          "output_type": "stream",
          "name": "stderr",
          "text": [
            "[nltk_data] Downloading package punkt to /root/nltk_data...\n",
            "[nltk_data]   Unzipping tokenizers/punkt.zip.\n"
          ]
        },
        {
          "output_type": "execute_result",
          "data": {
            "text/plain": [
              "True"
            ]
          },
          "metadata": {},
          "execution_count": 2
        }
      ]
    },
    {
      "cell_type": "markdown",
      "source": [
        "Defines a function load_texts(file1, file2)\n",
        "\n",
        "Opens two text files in read mode with UTF-8 encoding\n",
        "\n",
        "Reads and returns their content as two strings"
      ],
      "metadata": {
        "id": "z7ckbtSS7VL4"
      }
    },
    {
      "cell_type": "code",
      "source": [
        "# Load two text files\n",
        "def load_texts(file1, file2):\n",
        "    with open(file1, 'r', encoding='utf-8') as f1, open(file2, 'r', encoding='utf-8') as f2:\n",
        "        return f1.read(), f2.read()"
      ],
      "metadata": {
        "id": "qERdfA627USW"
      },
      "execution_count": 3,
      "outputs": []
    },
    {
      "cell_type": "markdown",
      "source": [
        "Defines **summarize_with_model()** for text summarization\n",
        "\n",
        "Loads a pretrained summarization model using Hugging Face pipeline\n",
        "\n",
        "Generates and returns the summarized text with given length limits"
      ],
      "metadata": {
        "id": "bn8kGQo27nSx"
      }
    },
    {
      "cell_type": "code",
      "source": [
        "# Summarization pipelines\n",
        "def summarize_with_model(text, model_name, max_length=150, min_length=50):\n",
        "    summarizer = pipeline(\"summarization\", model=model_name)\n",
        "    return summarizer(text, max_length=max_length, min_length=min_length, do_sample=False)[0]['summary_text']"
      ],
      "metadata": {
        "id": "zrJVCTS07fNh"
      },
      "execution_count": 4,
      "outputs": []
    },
    {
      "cell_type": "markdown",
      "source": [
        "Defines **paraphrase_with_model(**) to rephrase input text\n",
        "\n",
        "Loads tokenizer and seq2seq model from Hugging Face\n",
        "\n",
        "Encodes input, generates paraphrased output using sampling, and decodes it back to text"
      ],
      "metadata": {
        "id": "c0q7JmLs75yr"
      }
    },
    {
      "cell_type": "code",
      "source": [
        "# Paraphrasing using seq2seq model\n",
        "def paraphrase_with_model(text, model_name):\n",
        "    tokenizer = AutoTokenizer.from_pretrained(model_name)\n",
        "    model = AutoModelForSeq2SeqLM.from_pretrained(model_name)\n",
        "\n",
        "    input_text = \"paraphrase: \" + text + \" </s>\"\n",
        "    encoding = tokenizer.encode_plus(input_text, padding='longest', return_tensors=\"pt\")\n",
        "    outputs = model.generate(\n",
        "        input_ids=encoding[\"input_ids\"],\n",
        "        attention_mask=encoding[\"attention_mask\"],\n",
        "        max_length=256,\n",
        "        do_sample=True,\n",
        "        top_k=120,\n",
        "        top_p=0.95,\n",
        "        num_return_sequences=1\n",
        "    )\n",
        "    return tokenizer.decode(outputs[0], skip_special_tokens=True)"
      ],
      "metadata": {
        "id": "ZrmS-1s970Pl"
      },
      "execution_count": 5,
      "outputs": []
    },
    {
      "cell_type": "markdown",
      "source": [
        "Defines **similarity_score()** to measure how similar two texts are\n",
        "\n",
        "Uses SentenceTransformer to get sentence embeddings\n",
        "\n",
        "Returns cosine similarity score between original and generated text"
      ],
      "metadata": {
        "id": "QrXnndUu7_l0"
      }
    },
    {
      "cell_type": "code",
      "source": [
        "# Similarity scoring\n",
        "def similarity_score(original, generated):\n",
        "    model = SentenceTransformer('paraphrase-MiniLM-L6-v2')\n",
        "    emb1 = model.encode(original, convert_to_tensor=True)\n",
        "    emb2 = model.encode(generated, convert_to_tensor=True)\n",
        "    return float(util.pytorch_cos_sim(emb1, emb2)[0])"
      ],
      "metadata": {
        "id": "unw9qaSk7-3W"
      },
      "execution_count": 6,
      "outputs": []
    },
    {
      "cell_type": "markdown",
      "source": [
        "**main()** runs the complete workflow\n",
        "\n",
        "Loads **two text files** and stores them in a dictionary\n",
        "\n",
        "Defines **multiple summarization and paraphrasing models**\n",
        "\n",
        "**Generates summaries and paraphrases** for each text\n",
        "\n",
        "Calculates **similarity scores** between original and generated texts\n",
        "\n",
        "**Plots** bar charts comparing model similarity scores for visualization"
      ],
      "metadata": {
        "id": "1-HEnEpU8U6O"
      }
    },
    {
      "cell_type": "code",
      "source": [
        "# Main workflow\n",
        "def main():\n",
        "    file1 = \"Sample1.txt\"\n",
        "    file2 = \"Sample2.txt\"\n",
        "    text1, text2 = load_texts(file1, file2)\n",
        "\n",
        "    inputs = {\"Text1\": text1, \"Text2\": text2}\n",
        "\n",
        "    # Models\n",
        "    summarization_models = {\n",
        "        \"T5\": \"t5-base\",\n",
        "        \"BART\": \"facebook/bart-base\",\n",
        "        \"Pegasus\": \"google/pegasus-xsum\"\n",
        "    }\n",
        "\n",
        "    paraphrasing_models = {\n",
        "        \"T5\": \"ramsrigouthamg/t5_paraphraser\",\n",
        "        \"BART\": \"eugenesiow/bart-paraphrase\",\n",
        "        \"Pegasus\": \"Vamsi/T5_Paraphrase_Paws\"\n",
        "    }\n",
        "\n",
        "    results = {}\n",
        "\n",
        "    # Apply models\n",
        "    for name, text in inputs.items():\n",
        "        results[name] = {\"summary\": {}, \"paraphrase\": {}, \"similarity\": {}}\n",
        "\n",
        "        print(f\"\\n--- Processing {name} ---\\n\")\n",
        "\n",
        "        # Summarization\n",
        "        for model_name, model_path in summarization_models.items():\n",
        "            summary = summarize_with_model(text, model_path)\n",
        "            sim = similarity_score(text, summary)\n",
        "            results[name][\"summary\"][model_name] = summary\n",
        "            results[name][\"similarity\"][f\"{model_name} Summary\"] = sim\n",
        "            print(f\"{model_name} Summary:\\n{summary}\\n\")\n",
        "\n",
        "        # Paraphrasing\n",
        "        for model_name, model_path in paraphrasing_models.items():\n",
        "            paraphrase = paraphrase_with_model(text, model_path)\n",
        "            sim = similarity_score(text, paraphrase)\n",
        "            results[name][\"paraphrase\"][model_name] = paraphrase\n",
        "            results[name][\"similarity\"][f\"{model_name} Paraphrase\"] = sim\n",
        "            print(f\"{model_name} Paraphrase:\\n{paraphrase}\\n\")\n",
        "\n",
        "    # Plotting results\n",
        "    for text_key in inputs:\n",
        "        similarities = results[text_key][\"similarity\"]\n",
        "        labels = list(similarities.keys())\n",
        "        scores = list(similarities.values())\n",
        "        plt.figure(figsize=(10, 6))\n",
        "        plt.barh(labels, scores, color='skyblue')\n",
        "        plt.xlabel(\"Similarity Score (0–1)\")\n",
        "        plt.title(f\"Model Similarity Comparison for {text_key}\")\n",
        "        plt.xlim(0, 1)\n",
        "        for index, value in enumerate(scores):\n",
        "            plt.text(value + 0.01, index, f\"{value:.2f}\")\n",
        "        plt.tight_layout()\n",
        "        plt.show()\n",
        "\n",
        "if __name__ == \"__main__\":\n",
        "    main()"
      ],
      "metadata": {
        "colab": {
          "base_uri": "https://localhost:8080/",
          "height": 1000,
          "referenced_widgets": [
            "ebb57e1a50284ec192a6d96f3a0110ba",
            "8c2c485151ab4f81a55a69cb7495f657",
            "91d2ab7e5e364189b4846fb6b5ca555c",
            "829c4a7073f849a28ccb873f7e4939bd",
            "07f2a564622e4af3b336f73316d0e167",
            "4ca7620ebc7b4f19bb87ba1150b4bb75",
            "25eee8e4214a4627a936161af4ad89e7",
            "b9858b0c82ea4ccbb56c3d01d6acaaf4",
            "10aa56afb5904edca5900bd77c9dfbbf",
            "3f72c8539a234d48bfb50036b46debc6",
            "d15735e9b7074d8c874f045983df9472",
            "1cf41c0bb2174895abfc0837a3033833",
            "03ac935b750a4016bc686e1c1ad9b1e2",
            "89057d1376b1480f9b5a474e03710f03",
            "43e4cd55862c4b0a95ede7121e9aa9f5",
            "d26c914afb024834a474eb15c4b9123f",
            "d5a598896a0149fea9276883bba89ec6",
            "eaedb13c69984682a11f2e3fc3ead0d2",
            "2fa225a5aadf42e5957dd8469f2b2ea2",
            "6569603a460c48b496175d6655590151",
            "9658157d3b1c4261ba9cc7d0cce33268",
            "9e00971150544824b8305ef5d95ca08e",
            "7336b7ae404c4b9f8eb75fc9892536a7",
            "cd474de926d64999ba64bb71cccfa17a",
            "0c3d315c02074ee38965042184914b26",
            "bce71e3589ce4ba2afa1ff617bb299cb",
            "d839f23cfeb8462498d9a7b72f201cef",
            "66e42b00dd2f4952b1be9c4b4ce1ad2d",
            "63740fcfc6d14a94868f3da8a592bc53",
            "919abd1dad9f406e9d50326255a16412",
            "0a17c65fa3894870970eef64989cf5c2",
            "5c13f76289ce4ad8bc01eef8bd762614",
            "b7eeba6b11cf4aea8f89ce511b71efc0",
            "0507829821a6426dbd68a20c04ff916d",
            "c271e3d2a9a8417895b5e993b6eabcff",
            "97803fa9a21843b496fe7290baec12b5",
            "b3f2855d689e4c95b078f92c2477b4e1",
            "da154936642b458aacd427ae3d5ae51b",
            "0a0ab2fdf2694455bee7f41c589fd24a",
            "5c5d684c4ce24a1da9574265549f5b9d",
            "c21ef1cd92c24cc293f6693687d806eb",
            "9d91245e28f844c1b525640a01006bcc",
            "ca4bfc2ff4434f2680304a82eb43a395",
            "0ed4f3eda2bb4139956a4777f43039db",
            "e10c8299eb384bc8a8ab88896d73a720",
            "6dc079023b72457b9f4e3898dd945e38",
            "5e75b1e89c4645b5bea25ed985d63e8e",
            "8803c5ef459242dab4f173383acd8b1f",
            "f2396a7a1e824980b176ccc99b86867b",
            "baab13c88161480290f2451b741725be",
            "0d5617436f1b4862998ce4f3c89b26a2",
            "d9e98d41b0584e3dbfe208075e659285",
            "ba7e11d1910f4708aaef3630cb623513",
            "a981fee302d849a59861feee2c304cac",
            "e82fc08695c14dfea1d9fe0975b8bb71",
            "0b84154660e545f59cb2af35789267ab",
            "ebfff9f082bd4081a8a99d4758c3242a",
            "e531b4aa49cc442d99daf4f564070242",
            "c7c6810fc8df49c3aa14444d047cd247",
            "eedbb0980c3c42d5b49866b51a19d8de",
            "bbd2fb808f43406db47c98238bb0a884",
            "f504976cacde47ea840f8320b32051d0",
            "fd42724382dc4194aa0e07068d218b3b",
            "1862fa0a26c44e5db4fb58dd0d83b16f",
            "4b78e87ac87149e2860a39c897dfae86",
            "d91e94c4f6154c028ae2682d20e6f62e",
            "216210d4231d4684b685ec09b93c3c49",
            "bea416632d2c411ca5ab7be24ab276fb",
            "c52678f5a2344e53892f5ae1fbc42dbf",
            "7adb8bf4e3bf4e128fa3f198f28e2661",
            "77b848a29f784db4a438b0bb6d935a54",
            "ad120fa5257643cfae042d1beb317e55",
            "dcc2bee792304c568ab1ff56504d3e5a",
            "90e813614a9c4e97aaccf8ab13d5396c",
            "4e73b09497cf47d3879678bb24a0543e",
            "c09bef58bb98416a823211ff6ac75835",
            "901c56bf2df94e49870ff95af14fafd7",
            "d1fd5ee911034bd2a33cf423c939afc6",
            "5043244082cd462e8b35a96a033af744",
            "cced12e68d314f69bfe397fd933e3a15",
            "550cbd9526ab4dd699cf66e43d853bc3",
            "21ff6c5c2a084bf78fe6a067591e5649",
            "f3c21514c2864d758452925ff118c85c",
            "4a2c092c919c4ebca846b9ad0a55e246",
            "a4f3df0a084248b2a0b216f83b396cce",
            "d55b8d8aedcb4f478c24248b561f66fe",
            "51279356455c41bdb29020b3928a99fe",
            "e614e9ff2c8f4c03b96517c4c7ebf759",
            "9e92472a12d04dd4a40d5f95dc618427",
            "aec48657436d419091bdcd81af69e051",
            "4dd9145b9b624717a1ab1cbd7c3336e9",
            "62c41d898cde460f85dbf59f45c82c9b",
            "d4f29cf8faca48eb9bcb8d27f944fedf",
            "5e91b5dd66424e8986a80ff71ae9de30",
            "047401ea95f74287bdb366f60d0f94df",
            "41f958f476064942a46856abc669672c",
            "31a7473de5ae46c2b7d5558def25d835",
            "85990012731a4fac9827a6142889357f",
            "3df7513735b145349759681b86dd14a3",
            "a1c5f357b9534f699c5d3ae740be4628",
            "f396bc834f544f5a84444e1ceee2e507",
            "99747ca4f38547dc8c6d701e9e3e50cd",
            "81eb60d63f8e49b0a864fd2d9b4ca4b2",
            "e6ddccaa366d4194a686dd5abe13c510",
            "efd76c7149834941b425c54b9487f6f1",
            "954f61bf28a94779a099bbb50c4b7341",
            "1148a8e0e9d64e55831d868f741ac60c",
            "f4320a8e38ea4acb90ab2681086c5506",
            "abdc75942d414c4f8ac1985bf13c80b8",
            "66e6d75648ed449ab0479d1d69e996fc",
            "a15bb56589ac470291f5d6eefd278fbc",
            "64f11b32fcb24bf0b876f668c14d46bd",
            "7831482bec884bb48c0d199b5824e465",
            "816a06f7757b41f6aa597d4b1eaa47d5",
            "d23c95713bbd44ccbc3868478bc00ed2",
            "f9a2239d32584ea8a883a8f6ca1fa791",
            "751418f708d3444ba7acb9cc3f7bf58c",
            "301eaa77a8574102b7bda6357bd78c3b",
            "5b473e94256a4860b16f5561e4e7f3a1",
            "a6d8d6bae5144b169f93e7a96208c634",
            "f01a2041461b42e38cdf32d5d279dac3",
            "a52002782f9e4461adbfb72e737878e0",
            "2d439d76058d47448e0145f9bc9eedc2",
            "1b4aa27979ae4bc09885610c6ebfe0e2",
            "7d28640210344ca080ebb6fd3819c28a",
            "58377e6985614ed1b85efbb2cc5c519f",
            "4ce06b975dca4a2e9c54868483c15611",
            "0ef650da0ee24b69a7c31309340c2b36",
            "c451a1cb99624f5b9b19c7362b077e8a",
            "bceda5712b55409a9f4132d24b509672",
            "2a1dfeb8ee184196877ada8f639d08ec",
            "d0814ab6d7004e9889b50832602fd28a",
            "ca4e1b276d5c44c29ba36f7c4def8439",
            "197e0db2d9154dad8f0035484a098b32",
            "84aaf0aeea114a319f91e58934772f46",
            "e1dfc1b4de774a9aadb107840f41ec57",
            "a12861257a814ac99451e9a2f358d6aa",
            "4e63c10c34d54c19b9ecdb071758c596",
            "ab2125c4853f4de1b3efeda0f6c65fa6",
            "262f2c37b77d4d58b4fedede4af94ee6",
            "7cc26db9e6ea4aab881926daea6164cb",
            "ed94841b20c34bc0a6d203351af9e43e",
            "2bb83a2ca5c5454ca6c627616c7648ba",
            "41ec23c7c17e4130bee314a7acfcf196",
            "7272872866364314b7dbff1bcc179973",
            "c90f02ff0fdf4803809a0de25b8c5b1e",
            "d6a38eb2d3f641f6bdfaf2fdf7697acd",
            "b72f6e7e5610434c875b3cac670873e1",
            "4c99a53378a844989ef57a02391a3467",
            "46d343135274489b99dfdf8dc1aed715",
            "e1e7c69f3306441aacad896996f5db6c",
            "8c8e240c7aab452aaa73b982e49a9a5c",
            "00add74602c34abc9c47996d27d85b43",
            "233c1ebd510e4607b6d8292fe7a28cc7",
            "413001d7ac764ee69baf3691910ea3a3",
            "0a332a076c6846f88fde69639359b64e",
            "573cd3cf40324f66b8f5cc29be713fec",
            "7caeeea8050041b9a9aeec5d701ab4f1",
            "6d467ab354d64887b80ac104638b6c27",
            "829aa0edc5b442cb8981e843c4154ae7",
            "5b6ace44612d4e2bb5b31d176ae591c1",
            "216478666ddd49a29dea6bc5d6b1e860",
            "7fe59ec494cb4e459651db19d9d6c93a",
            "9fa1d402ea46449b9c53fcdf8b579d12",
            "fb7df275005d4d579fc8272f43fd65c8",
            "e991a6c6a98f4eae997c8d88e8e5df43",
            "e4ce8f45303a43f38e018977f97b52ce",
            "e1f5fd1c51f54bbe8673024581a5de05",
            "1af0b47b905c41dfbead79fc4bfea5c4",
            "cbbe8fd26ffd411a9a8f3892d729cbbc",
            "b029e4f829a34ae8bd9f04c2028e3cd9",
            "d662dbcf19cc4502b82d90cd03a6ca59",
            "6bc01d603a5148fcbb5637ebc72467cc",
            "92363171ea3b43d29839f1cdb71582a5",
            "94eb9b05f0cf433ab02222280f8b29ec",
            "e6a242d9ef984530a3021e39d8b70ce2",
            "96b1422d5b654c18933796bcc815ea4c",
            "ec2de04a051e4af48cbb686fbf7e6ed4",
            "0b8d3948ae7a423d8f67b88bda8e7248",
            "8d14e7912ff14b31828032e47e72aa44",
            "e97a75bcf76d4ec18c24e95091a0c337",
            "19a8163de19743aaa6b214f2d7421fcb",
            "7f63733dbc9c43119b9f3263be9f4c86",
            "dcc2dc29d32847908dcaf089056af423",
            "2614e49da12f440db076f1e9ff642ae9",
            "3b89d33b25ae43d0bafbc4466e178534",
            "0bdc6c8e4c1c40d995bc935e76ab18f7",
            "2b48fd490006490ebac82da1c4093a2b",
            "907202918ff4425e9cdd6b1f37d528af",
            "ea6c1eb5691d4c0bb3a1f08902204bff",
            "01a50e1235a946d6b532c021dae3f15c",
            "25c5b280f2ef401897e3d7f86e9c4eef",
            "d5bff69ffc4849b290512b446cac9406",
            "fa66b69a04da460996228b245c709754",
            "faa80ef3982c4752b3563b7410ef69b1",
            "227575d3557c45beb32442631047c166",
            "a1e7744d052945bcb8a9f878b17c8b68",
            "1bc8ed5170a9497a8d6e5a64a20549e1",
            "169a6c83dfcb44dbad6628de5909c85a",
            "9b20f8cc6bb94ef58140db22966263b6",
            "32adf150291b4495b6adbe901703b641",
            "87cc1008719641fc8d08eb52942dbbce",
            "202f8155f04c4a1889544c1f09b46c1b",
            "62cfccb2e5c649558cbdea3acb8a7fe4",
            "34f73427e3d34eccbbcb1df07e033a15",
            "281407d64d3a47efb63502da81c75c2a",
            "e537aef0d06a43a4bbbce91eca5f4aea",
            "c5d915cd86284f98a1b597335e7c9294",
            "78ed7f84cd194a12abb725909fd1ad20",
            "126955ca282142ae9bb5cb36ca6e7892",
            "055ab758241c4eb4b368efef44c7c6f3",
            "2d13ca604bc1467288b1c65f06cd4a25",
            "5d4a694bc3c34f51a0a2e6ba99db336a",
            "dc08606599464a99ab256d4917099ca3",
            "cc97c3becf27457c993b8e8b896421e6",
            "690e56d7df484abc90d2b0263548a7a1",
            "413c71a2385546debb24e87b188dcef6",
            "283a9aeb0474458ca831e6c742e56025",
            "49e39544bf9b4f2b9986e3a190dba43a",
            "d13ee17a0cd446b3b49c5aac2948faeb",
            "a9c4821d95894a479310bffd5bdce142",
            "dedb962350cc43c38f2922b5fbdca33c",
            "908aa1af93f9423e9c18b5ae81c91e81",
            "f493a17c2e994ff0a3c2021595cfe6d6",
            "7d83dd85c3b24dd893d1e9d0994323a5",
            "6c324a653fc042d7b323f32eddda0dc1",
            "e519924dbd3248f98ebfe01ec795ae15",
            "793b1850255745b89228cab13fe5bc4d",
            "c05cd79f77064f9ab35a12003f30067a",
            "87f071c3bc3c42a39ad9b601fdb4a60a",
            "c47e312aa9af43bca9fc27262a7653f7",
            "e3762106b58b4a22a42d813411c648a7",
            "bdff27181d3e46c69ae8984e31e1fd7a",
            "51ca05deadcd4c409b2d975afa1b1e30",
            "01e9b947c99843ab96d5a0da07241f20",
            "648f1bf7da384beca08a790fdd95fc70",
            "2bce47e2d37444fdaa21b6bfd0904d33",
            "d1db024059634efb94e16649c451b51d",
            "a4471383ae3f42d1a9c9131e9b312e10",
            "8628b41e5d9444f1804cefe6de3b74be",
            "4e1e7ffdceea4f6b8cbbbe7767a8af10",
            "e6bf2fbaefa24c8891a937cb0ee8f1d2",
            "368f81e6358e49dfbd989e3d82aa13ac",
            "ebdb0048ea62426b94f496c6a49e9d94",
            "7d84a15ef0364c3a8be9db8e066df510",
            "8a7353d16ca34d3ebf9c49a8b3d47362",
            "a6358e12816642cfa0ed12ab8a9b15a9",
            "4219c410371e472c8e70350553e0052f",
            "3cc5a333e0c544df9097f5d3e21ab9af",
            "6aef5fcf1abc4b64b536d0f8d25af939",
            "c1ddec0a78fb42aa8a5f5916c76178c0",
            "3d7751cc4daf4838b8ef1065d4df87cd",
            "3b3173cdbd0d4ee2bb0d573b124bdd17",
            "96b84f995f144262a93e981fabc31193",
            "58c9d7a2710c40968a3e3f58fa52d2c5",
            "05ba156539f84258b421d6d1330ab0d4",
            "185a8175ec9244e4b1538f7c4b250670",
            "279982f8d3924fc08f1daa791c9de228",
            "e048bfee797b418d8a7a548b90ec41ef",
            "220cf23dd97049eeb6084ab39014e3f7",
            "89c7b3e9df2e41d08d7c2f656f0e5e44",
            "04ec1a83d3e74fb2b6d677db55f02143",
            "1b2c7168b62a4e2f8b04001ad828e26f",
            "b81607b9eea14b6990ecaba12dfec026",
            "736859ba222541408d1198b3f7a16b03",
            "721183517ea748fbb2183f2dfaed8bcb",
            "a6e98eb6f21640c78b19882e312a2842",
            "a1d1d595572a41fdb6c8cdf87d6000e6",
            "d2f4a1dfefd64fe4b5ac06ce9440a717",
            "ace1220989014949981857f137b687a9",
            "79651bf39ffd4c8ca49559439c15e10e",
            "40b30ca62b4941cb99f6d62dad5b638c",
            "0df8c1b07b02499c8d0094d941bef0a9",
            "7aebbffe2ddb4834af3a5b6d31097916",
            "adb333d37a704795aac5e4c5c7f48eeb",
            "b60898c2220341b0b82977e6b294d2f5",
            "b8ff74622a9d4fd3bb1a8dfd3c8ed491",
            "cda7716b867845599d7f01c89bcee67f",
            "14be398b700e485ba3575b3b7a9e2b41",
            "290b033fa112413388c95893ea342a39",
            "14c0e697965e49b0aa8f5c6118936776",
            "f309cdddd4fb455ba8b5457e0a487cce",
            "d70b302e0ac346849ad345a9496eb9f6",
            "448ff5d4a4734470abec38227b3bb5bc",
            "086e4ab3f631439288c3dba3b8ef62bf",
            "8372a0ec7b8d45d3921e3d78d2567e78",
            "4f2a5c39d0674d3585c966d1dc9facba",
            "c0e46ddd4c824763ae20569963729661",
            "c287acd07b904fa3aee5661b624c90b4",
            "826542752eeb48969cbddb40d28564b5",
            "a28f8ec234a74a2d88f3a50c9d90bafa",
            "c57b5750cdc24f8e82cb06084eea7bcf",
            "c4ddf62ee4344562bb23c1dbe5d51149",
            "a283e346021a4cdcb0db67f5d44016e5",
            "fd526511cc614c8ca1f7c1913cfdbb3d",
            "de6fd181b6b746d9a0cc11baa4691326",
            "67032a19f0034966b5bac26987ff99f6",
            "13a1f2b0873a45f18fabf3ada27f06f3",
            "1cf471ed9b80410a8ef7e9f8d5e0071f",
            "671b719fe5a64a148d53ea781539f095",
            "75916a6a4c314af39a0306e63aba6bbd",
            "fc11519796a2430db3b40485652a456a",
            "a2f65ca4d556444fa101f9074fd977f8",
            "d501af28f6444829940d6b84aa97b330",
            "c71072bec53d4611850fbc6cfebabbf0",
            "7935675e8bd44c33a74268d3df1c3538",
            "6316dbe42b774a539176cd14ea2d5285",
            "eec9c55590f3405893b4eb2af9893767",
            "0a33790f7ce7428b8e1fe190366d78d3",
            "42f4cd6ca43d43238cc1d27cc0d7071f",
            "cffe6f6e709f40558a2b047157c3f298",
            "9bcb7792175e468ca4d6b473d54588f9",
            "a272bacfd02b4745a601d9c058f192cd",
            "45038dccef114bbc9568533dfac5ff8e",
            "bb103ca803a6487ca2e779f6c4b3dee0",
            "2d447563c6634e3aa62e83e8c1038b79",
            "3aac42015e2043c193b80a099fd8be7c",
            "c71fcf4d49d441b892b1e59e45d89c32",
            "39a67308bec04a7c83394352c2517da2",
            "e0e513364ad745d5bcf7d33405847f78",
            "b47663a2e0bc48ec860ef57c00b1223d",
            "47c856351f7d4900bdc3efa7ddd1ea3c",
            "e7dde85279e540e3935c25f7bbfdd845",
            "0c6e1be110144fb399d8323574e40bca",
            "a40845e491d34dcc9714682bfb82efd0",
            "cef11111722149e1974f2a365dfe68ec",
            "eb69de12b36745b8bb1fc50c13db4d05",
            "44af840d7be143478bbf97ba8d829be3",
            "c771a6035dcb4d3c87132b533ae8940a",
            "644dc1d1247545ddb73b707809485a14",
            "6bb619795a96457f8d1d1b0dae59f1a7",
            "a8619290ce3042ecb0f356d4aa1e1ef5",
            "c60c8769a73f4886b3bd426afc490512",
            "183fe2a38ee042a688769775141ec462",
            "e94a648f28e945bcba882a6d3b41c61c",
            "36945ac1a3104db2b5d8dbbeb5c23fc3",
            "103f9301290d44de8ed5d8865263b093",
            "01cb248314ef489784840be3c597da85",
            "db5125ae2e454d0f93acfc8e0497c8c0",
            "3b1ee98b955b4553b74dfed7079508d2",
            "a8918228d5d64b9796ec6d3599579996",
            "5f2c047c0c7846228a6fabe5e3ad3858",
            "8c4989995cdd43a094cadaa01081234e",
            "d7db0ba4eca747dcbaab9a7e37a0de00",
            "b74db028df5444c8b93a7fdc71f83ecf",
            "77d89dba37314daa83a0302a0678e493",
            "b37ee4e3b1fb43819d59cc1e2d699733",
            "6550fbc9e0214553b74ada9aebaaabec",
            "ef6ff5e001474deca4e825bef0847448",
            "6154026cd21c4de2bbbd335a14e6d7c2",
            "60721bf7f5d54375b973fb9e68468752",
            "323074eed2e847d48b92a57c59aa3d97",
            "5d0d1f2f6ec84f0ca9495bb0dd155572",
            "0070369baeed4f7d85173ef984627954",
            "e7f369bd91ca42ac92b207346ef947cf",
            "567bd8e3567b480aad16dbadd21471e2",
            "3a9a5bf1355a40838da903d90aab86f7",
            "df5ed64750d44259afcb6b012cadc194",
            "9f57966a81134e37aed2053ee1b02692",
            "f59b794bd37c42a48f91f47b3391f311",
            "f49f525a57884c94baebe3e938a19f93",
            "7455fef88d294e09ae0962b23a4d1af8",
            "d949e91d30d24b128f2d18de8b2bf47e",
            "18f825a462f246e7af72d04fc65bdc85",
            "7ca2f6d130a04d73801ecc37f3635bb5",
            "329674809931474b8cdf601845c20dce",
            "f4f6df5f0d38476ebd17304843ae1d61",
            "825e3835abf94c47bb87d75ce6378a94",
            "6f30de1e211e41a4bc64e5bf12b1f2ea",
            "a7fbaf91c07e42a1826f4f07d933af80",
            "efe8e23cffc34a8592addfc7d95041a2",
            "e701bb90becb453196f6b041a6f38cc3",
            "b0b0ab39fd254c5389a5396da120d83f",
            "462cb271acfc4398b4753f2033cf200d",
            "badf3289eb004b9486f8db27d98d4d74",
            "0e59169e9fbe42e397afe1d1ed526c91",
            "160eb88194c6461f8c42267279b627d7",
            "d9c9ff7b41f3422baefd80ed68905f17",
            "671659a72b964fc9aacb0c98ff00df4d",
            "01f26883590b4e6da3f6f5e9ca37a159",
            "b6791ca2d31b44a183b43a0aeee55a4f",
            "050e397020d1446b9d7f4454ac38a3b0",
            "25050984d99c4903a4810f8bc1aa6f88",
            "47b02c65355a43969275846b28e7f8c7",
            "f7549f08c1bf4d74be6926cc98c33086",
            "1405fb8f868c4e33872ef0cd0fb840ad",
            "0485a7abd16646c493cc46de7e2d3341",
            "1c0ce4a54c9b4f12b69c2928e38237d4",
            "0d90496fc9974dc0b2f99961f312d1ea",
            "68a4b4d290a4431dac65b6f73d9ee1f3",
            "f81b3c7776af466bb1bc3c2703a55955",
            "3ef32504fbe34dcd883e24dd77e3a039",
            "3314807bd16e4856be179ac169c7d8e8",
            "a0c6410da118414dbc99505a99e128b7",
            "ba9982d7edf643bfb08a874c5d438a99",
            "c92cbe70dabf4d768c00161274df9d26",
            "665a60995432428d9ef89c2e3573d051",
            "8de4f41d97ac4401b15c1f32b2a47cca",
            "f062cb761dab4b2e9cae09f8a8dd9cae",
            "d4e0cdb3d9d94917a5c3cd01bbf5fbfa",
            "4ca6e7d2dfc4480cbdfbc91b60176652",
            "642e33c69b6741609dfc7b55a1aa292f",
            "6eb4ed503c5d406fa9dea232a92dcf87",
            "05f889b181754563bda7d9c3583a90e7",
            "b564ff8da1144174b253ed96684f0879",
            "703062518d454aa4aab5cc69d5f7883d",
            "b724c1bae9bb4cc0a6cc604e923c163f",
            "d3c1a22b877e458ab08ebc33ec3760c6",
            "eebff408a70749339d4a598b521092df",
            "6fbc3071bce84a2bb4b215e8319afea8",
            "0eec077c253b4a0caeac3e17fb04eab7",
            "540807113b6d4f709fc21cd102464875",
            "011db00a7e814ed78d21e19f94f48fd6",
            "19dee4bbaaa94f53be385e148b8e1644",
            "97e82943b3cb4092af47af77246dd0fa",
            "b0779253ac414f05bd4458fa85db9c77",
            "0dadab4470a646bfa36140f534da09e7",
            "9d1b3fa8ea4045e0a9d1b34e5fff0248",
            "8b42b2eff40a4ad3b7354097986ecc7b",
            "3f39c29f82ec410fb447cea089c4846f",
            "26c4adabf0834dfbbb21ccde1ab0796d",
            "5ec769dbedd7477480d8882b74207abc",
            "457fc3ae77904d98add16cfac28782ff",
            "ae548ff6143c478e888e95a69472b5f7",
            "f2fd8a301a364394a72655c8278dd8ad",
            "2fb8298590c2480ea2c9545fbfdcecff",
            "a1483deeadc34844afb2614e20a70226",
            "be366d277efa46aab62f3ba4ae0fc6ac",
            "f05f337f87ad49898a26b8a34d72a61c",
            "76481ebe19354776af177786f858ab93",
            "a5ec51bc6b814d29bae1e3c40572c94f",
            "c9d854b77a854c108d152209a11f72fe",
            "2ed2d219d4ee4fa28179df5a0a567c3c",
            "228b244cac334ccb82f6aedc17d4dd8d",
            "9a7a96a21b9c49f4a6bd351054c5a17b",
            "e219502930064db6b9d2bc4335fe0d11",
            "fe23f90381f14d719dd2ce6a42a7a57d",
            "1a615796bb4847c9b10589e746001c21",
            "4db7738668834373b74a1e0b3c3c2506",
            "e4a8d32e430345d5b583b4574ee6f3bf",
            "7402bed79aeb4ae492b24fb047f61764",
            "000157b8183e4ab0a3d679901b426aa1",
            "1e621fef05ff4f1a839cca60813e06d4",
            "45eeb3eded7a4a13b3060337a05a3d4a",
            "62e5fcfd8e804204894993fad99b61ed",
            "ba7e63c50ad44f86917978f319e9de47",
            "aa17c751c2114f8eba78fdafdf650b83",
            "19fed894c52344448088fd8bf4f31d5a",
            "ec629064a25c4a54ae9dc3e354f85667",
            "0eddf378d9964375a4a653aef71b6c31",
            "bdc8c060db57491d93aa0de7ab2da745",
            "f0690a15c9f74f22ad69e5093c7b2254",
            "cb6c257073ad490080062b5689579a6c",
            "d665b327cb5a4f19b102aa76c014c4fa",
            "061ea01151814812888606f1c46e9e15",
            "de4406768143414e8247dfaa1b97c074",
            "75f7fb5c18a24754ac77347ab3879d79",
            "8e8bd57570184353a87b20f8702729f1",
            "607b5ee5ade24beea8b7e5e81862a5f6",
            "6e1bdab17a1f41c4ba68b20a0abcbe3e",
            "5f4ffe132c174ca68de0ae65607f050c",
            "c4ad2f23f80d4fcca917efeb28ecacaf",
            "bdda8a6a2d9c4647a227465607ac8f98",
            "a0d4239e497a41828157ced7ad8cd4a6",
            "ab1d12fd8e124fed840ee1d687617ee3",
            "0e4f44b6d6fe451394efcf686cd38325",
            "6176fed48a0d4085b593f8e3b3947fa1",
            "3b52320430fe43339c544059c97a2cb1",
            "1ce5472ea7984c09acc81f18a8dd805c",
            "a98245179688443c90e2c4bb51f4b164",
            "50da1d65922e4cd699ca35112c978e2f",
            "50cc1a4d7b92416b86af5969f4553f7d",
            "caaa3a5083d84060962baebe5fbe9fb8",
            "8093cfbdad4945ad9465d8ed046b1459",
            "004e535c04124041b77b58837b6fff85",
            "3a129a1ae5814fcb88a984570603cca4",
            "dab5dca5267648d781f6562e053b30eb",
            "b39ebbc3bd7040dabc5bc12e646489aa",
            "279a442da5e24d9888e6ca673153f5f1",
            "6da19d94e5704b129c95535e95f36602",
            "d3673d462f6b4469b7d13d56944d840a",
            "3baa9049b7944b5192b09d6dbe58f743",
            "e9fa1ac23d5b454d9d247fa5de365382",
            "e1554ef7109942b3bbef3c575e13643c",
            "312f9ad55e0a4452887bc2e5c49db894",
            "4390bb3e37be46cbbe9509ccf9da65b0",
            "bd8af10eb8654c3d983b5be668203e28",
            "01dc4d29eb79414f9b3c5ddd817a991e",
            "18b2d3c1000a42649488b5f2b262ee40",
            "3cd9cd9d249e449590a1232e1e11ea1a",
            "6cde9663565d4696b00301dc0492b8ce",
            "3a4dea2dfff94a969c7e5a64be82e78f",
            "db6dfb5be2d2417ab423e73674828204",
            "a697714c056a474c987446fe8681e4d9",
            "5618f599729c429493fcbda76b930e9b",
            "9370ffea681241f2910b236b063d2c32",
            "c06bc044bcf34ded8b8bd201c8051882",
            "c974815710d94cf78554bbc17bfb5c84",
            "d8efbc6311fd4876a88ebfd220eb2d1a",
            "d6d3a92507ab42308c96d8d019c7de6f",
            "fc26938dc9e74285b6d1323ee561cd23",
            "32e450944f1b48a0bdc53cfe4780759e",
            "daaf5aff69da4fce9af18c0431732a17",
            "08f57baea3684ede8d1497cfc2993f7b",
            "538d449732d74ed7a531beadad28993b",
            "540d712078ab4ecbada68e4628682c25",
            "d41c6fcc899045a8a828725de715fa35",
            "086aea6a9f2f4fa8a9ecf1a2af98704e",
            "bda43aae1ffc43cabff9037ab3a6379c",
            "05769832c5214e97a4d35e24c0ec977f",
            "348ff6d80b92494eaf19606058fb0068",
            "e0d1e50fa4ce4f18aa45867dc6591b4f",
            "60edafb01f3b4f3da803acdddfb2318a",
            "d8c79f17072243218fccb612baf77f06",
            "1d74d23c2a38499688c24d9ca30a281f",
            "1590fa5a1a9e4ba8b4c900413212c9af",
            "2d2af4b3b6914646807117d629a784f0"
          ]
        },
        "id": "aGpp7RfK8RRX",
        "outputId": "c64d1d21-4072-4dba-d6c5-3764f89e9995"
      },
      "execution_count": 7,
      "outputs": [
        {
          "output_type": "stream",
          "name": "stdout",
          "text": [
            "\n",
            "--- Processing Text1 ---\n",
            "\n"
          ]
        },
        {
          "output_type": "stream",
          "name": "stderr",
          "text": [
            "/usr/local/lib/python3.12/dist-packages/huggingface_hub/utils/_auth.py:94: UserWarning: \n",
            "The secret `HF_TOKEN` does not exist in your Colab secrets.\n",
            "To authenticate with the Hugging Face Hub, create a token in your settings tab (https://huggingface.co/settings/tokens), set it as secret in your Google Colab and restart your session.\n",
            "You will be able to reuse this secret in all of your notebooks.\n",
            "Please note that authentication is recommended but still optional to access public models or datasets.\n",
            "  warnings.warn(\n"
          ]
        },
        {
          "output_type": "display_data",
          "data": {
            "text/plain": [
              "config.json:   0%|          | 0.00/1.21k [00:00<?, ?B/s]"
            ],
            "application/vnd.jupyter.widget-view+json": {
              "version_major": 2,
              "version_minor": 0,
              "model_id": "ebb57e1a50284ec192a6d96f3a0110ba"
            }
          },
          "metadata": {}
        },
        {
          "output_type": "display_data",
          "data": {
            "text/plain": [
              "model.safetensors:   0%|          | 0.00/892M [00:00<?, ?B/s]"
            ],
            "application/vnd.jupyter.widget-view+json": {
              "version_major": 2,
              "version_minor": 0,
              "model_id": "1cf41c0bb2174895abfc0837a3033833"
            }
          },
          "metadata": {}
        },
        {
          "output_type": "display_data",
          "data": {
            "text/plain": [
              "generation_config.json:   0%|          | 0.00/147 [00:00<?, ?B/s]"
            ],
            "application/vnd.jupyter.widget-view+json": {
              "version_major": 2,
              "version_minor": 0,
              "model_id": "7336b7ae404c4b9f8eb75fc9892536a7"
            }
          },
          "metadata": {}
        },
        {
          "output_type": "display_data",
          "data": {
            "text/plain": [
              "spiece.model:   0%|          | 0.00/792k [00:00<?, ?B/s]"
            ],
            "application/vnd.jupyter.widget-view+json": {
              "version_major": 2,
              "version_minor": 0,
              "model_id": "0507829821a6426dbd68a20c04ff916d"
            }
          },
          "metadata": {}
        },
        {
          "output_type": "display_data",
          "data": {
            "text/plain": [
              "tokenizer.json:   0%|          | 0.00/1.39M [00:00<?, ?B/s]"
            ],
            "application/vnd.jupyter.widget-view+json": {
              "version_major": 2,
              "version_minor": 0,
              "model_id": "e10c8299eb384bc8a8ab88896d73a720"
            }
          },
          "metadata": {}
        },
        {
          "output_type": "stream",
          "name": "stderr",
          "text": [
            "Device set to use cuda:0\n",
            "Your max_length is set to 150, but your input_length is only 99. Since this is a summarization task, where outputs shorter than the input are typically wanted, you might consider decreasing max_length manually, e.g. summarizer('...', max_length=49)\n",
            "Both `max_new_tokens` (=256) and `max_length`(=150) seem to have been set. `max_new_tokens` will take precedence. Please refer to the documentation for more information. (https://huggingface.co/docs/transformers/main/en/main_classes/text_generation)\n"
          ]
        },
        {
          "output_type": "display_data",
          "data": {
            "text/plain": [
              "modules.json:   0%|          | 0.00/229 [00:00<?, ?B/s]"
            ],
            "application/vnd.jupyter.widget-view+json": {
              "version_major": 2,
              "version_minor": 0,
              "model_id": "0b84154660e545f59cb2af35789267ab"
            }
          },
          "metadata": {}
        },
        {
          "output_type": "display_data",
          "data": {
            "text/plain": [
              "config_sentence_transformers.json:   0%|          | 0.00/122 [00:00<?, ?B/s]"
            ],
            "application/vnd.jupyter.widget-view+json": {
              "version_major": 2,
              "version_minor": 0,
              "model_id": "216210d4231d4684b685ec09b93c3c49"
            }
          },
          "metadata": {}
        },
        {
          "output_type": "display_data",
          "data": {
            "text/plain": [
              "README.md: 0.00B [00:00, ?B/s]"
            ],
            "application/vnd.jupyter.widget-view+json": {
              "version_major": 2,
              "version_minor": 0,
              "model_id": "d1fd5ee911034bd2a33cf423c939afc6"
            }
          },
          "metadata": {}
        },
        {
          "output_type": "display_data",
          "data": {
            "text/plain": [
              "sentence_bert_config.json:   0%|          | 0.00/53.0 [00:00<?, ?B/s]"
            ],
            "application/vnd.jupyter.widget-view+json": {
              "version_major": 2,
              "version_minor": 0,
              "model_id": "9e92472a12d04dd4a40d5f95dc618427"
            }
          },
          "metadata": {}
        },
        {
          "output_type": "display_data",
          "data": {
            "text/plain": [
              "config.json:   0%|          | 0.00/629 [00:00<?, ?B/s]"
            ],
            "application/vnd.jupyter.widget-view+json": {
              "version_major": 2,
              "version_minor": 0,
              "model_id": "a1c5f357b9534f699c5d3ae740be4628"
            }
          },
          "metadata": {}
        },
        {
          "output_type": "display_data",
          "data": {
            "text/plain": [
              "model.safetensors:   0%|          | 0.00/90.9M [00:00<?, ?B/s]"
            ],
            "application/vnd.jupyter.widget-view+json": {
              "version_major": 2,
              "version_minor": 0,
              "model_id": "a15bb56589ac470291f5d6eefd278fbc"
            }
          },
          "metadata": {}
        },
        {
          "output_type": "display_data",
          "data": {
            "text/plain": [
              "tokenizer_config.json:   0%|          | 0.00/314 [00:00<?, ?B/s]"
            ],
            "application/vnd.jupyter.widget-view+json": {
              "version_major": 2,
              "version_minor": 0,
              "model_id": "a52002782f9e4461adbfb72e737878e0"
            }
          },
          "metadata": {}
        },
        {
          "output_type": "display_data",
          "data": {
            "text/plain": [
              "vocab.txt: 0.00B [00:00, ?B/s]"
            ],
            "application/vnd.jupyter.widget-view+json": {
              "version_major": 2,
              "version_minor": 0,
              "model_id": "ca4e1b276d5c44c29ba36f7c4def8439"
            }
          },
          "metadata": {}
        },
        {
          "output_type": "display_data",
          "data": {
            "text/plain": [
              "tokenizer.json: 0.00B [00:00, ?B/s]"
            ],
            "application/vnd.jupyter.widget-view+json": {
              "version_major": 2,
              "version_minor": 0,
              "model_id": "41ec23c7c17e4130bee314a7acfcf196"
            }
          },
          "metadata": {}
        },
        {
          "output_type": "display_data",
          "data": {
            "text/plain": [
              "special_tokens_map.json:   0%|          | 0.00/112 [00:00<?, ?B/s]"
            ],
            "application/vnd.jupyter.widget-view+json": {
              "version_major": 2,
              "version_minor": 0,
              "model_id": "413001d7ac764ee69baf3691910ea3a3"
            }
          },
          "metadata": {}
        },
        {
          "output_type": "display_data",
          "data": {
            "text/plain": [
              "config.json:   0%|          | 0.00/190 [00:00<?, ?B/s]"
            ],
            "application/vnd.jupyter.widget-view+json": {
              "version_major": 2,
              "version_minor": 0,
              "model_id": "e991a6c6a98f4eae997c8d88e8e5df43"
            }
          },
          "metadata": {}
        },
        {
          "output_type": "stream",
          "name": "stdout",
          "text": [
            "T5 Summary:\n",
            "the rapid advancements in artificial intelligence have sparked both excitement and concern . there are growing fears about the ethical implications, job displacement, and the potential misuse of AI technology . as society grapples with these challenges, it's clear that while AI has vast potential, its development must be approached with caution .\n",
            "\n"
          ]
        },
        {
          "output_type": "display_data",
          "data": {
            "text/plain": [
              "config.json: 0.00B [00:00, ?B/s]"
            ],
            "application/vnd.jupyter.widget-view+json": {
              "version_major": 2,
              "version_minor": 0,
              "model_id": "96b1422d5b654c18933796bcc815ea4c"
            }
          },
          "metadata": {}
        },
        {
          "output_type": "display_data",
          "data": {
            "text/plain": [
              "model.safetensors:   0%|          | 0.00/558M [00:00<?, ?B/s]"
            ],
            "application/vnd.jupyter.widget-view+json": {
              "version_major": 2,
              "version_minor": 0,
              "model_id": "2b48fd490006490ebac82da1c4093a2b"
            }
          },
          "metadata": {}
        },
        {
          "output_type": "display_data",
          "data": {
            "text/plain": [
              "vocab.json: 0.00B [00:00, ?B/s]"
            ],
            "application/vnd.jupyter.widget-view+json": {
              "version_major": 2,
              "version_minor": 0,
              "model_id": "169a6c83dfcb44dbad6628de5909c85a"
            }
          },
          "metadata": {}
        },
        {
          "output_type": "display_data",
          "data": {
            "text/plain": [
              "merges.txt: 0.00B [00:00, ?B/s]"
            ],
            "application/vnd.jupyter.widget-view+json": {
              "version_major": 2,
              "version_minor": 0,
              "model_id": "126955ca282142ae9bb5cb36ca6e7892"
            }
          },
          "metadata": {}
        },
        {
          "output_type": "display_data",
          "data": {
            "text/plain": [
              "tokenizer.json: 0.00B [00:00, ?B/s]"
            ],
            "application/vnd.jupyter.widget-view+json": {
              "version_major": 2,
              "version_minor": 0,
              "model_id": "a9c4821d95894a479310bffd5bdce142"
            }
          },
          "metadata": {}
        },
        {
          "output_type": "stream",
          "name": "stderr",
          "text": [
            "Device set to use cuda:0\n",
            "Your max_length is set to 150, but your input_length is only 93. Since this is a summarization task, where outputs shorter than the input are typically wanted, you might consider decreasing max_length manually, e.g. summarizer('...', max_length=46)\n",
            "Both `max_new_tokens` (=256) and `max_length`(=150) seem to have been set. `max_new_tokens` will take precedence. Please refer to the documentation for more information. (https://huggingface.co/docs/transformers/main/en/main_classes/text_generation)\n"
          ]
        },
        {
          "output_type": "stream",
          "name": "stdout",
          "text": [
            "BART Summary:\n",
            "The rapid advancements in artificial intelligence have sparked both excitement and concern. On one hand, AI promises to revolutionize industries, from healthcare to finance, by improving efficiency, accuracy, and productivity. On the other hand, there are growing fears about the ethical implications, job displacement, and the potential misuse of AI technology. As society grapples with these challenges, it's clear that while AI has vast potential, its development must be approached with caution and responsibility.\n",
            "\n"
          ]
        },
        {
          "output_type": "display_data",
          "data": {
            "text/plain": [
              "config.json: 0.00B [00:00, ?B/s]"
            ],
            "application/vnd.jupyter.widget-view+json": {
              "version_major": 2,
              "version_minor": 0,
              "model_id": "e3762106b58b4a22a42d813411c648a7"
            }
          },
          "metadata": {}
        },
        {
          "output_type": "display_data",
          "data": {
            "text/plain": [
              "pytorch_model.bin:   0%|          | 0.00/2.28G [00:00<?, ?B/s]"
            ],
            "application/vnd.jupyter.widget-view+json": {
              "version_major": 2,
              "version_minor": 0,
              "model_id": "368f81e6358e49dfbd989e3d82aa13ac"
            }
          },
          "metadata": {}
        },
        {
          "output_type": "display_data",
          "data": {
            "text/plain": [
              "model.safetensors:   0%|          | 0.00/2.28G [00:00<?, ?B/s]"
            ],
            "application/vnd.jupyter.widget-view+json": {
              "version_major": 2,
              "version_minor": 0,
              "model_id": "96b84f995f144262a93e981fabc31193"
            }
          },
          "metadata": {}
        },
        {
          "output_type": "stream",
          "name": "stderr",
          "text": [
            "Some weights of PegasusForConditionalGeneration were not initialized from the model checkpoint at google/pegasus-xsum and are newly initialized: ['model.decoder.embed_positions.weight', 'model.encoder.embed_positions.weight']\n",
            "You should probably TRAIN this model on a down-stream task to be able to use it for predictions and inference.\n"
          ]
        },
        {
          "output_type": "display_data",
          "data": {
            "text/plain": [
              "generation_config.json:   0%|          | 0.00/259 [00:00<?, ?B/s]"
            ],
            "application/vnd.jupyter.widget-view+json": {
              "version_major": 2,
              "version_minor": 0,
              "model_id": "736859ba222541408d1198b3f7a16b03"
            }
          },
          "metadata": {}
        },
        {
          "output_type": "display_data",
          "data": {
            "text/plain": [
              "tokenizer_config.json:   0%|          | 0.00/87.0 [00:00<?, ?B/s]"
            ],
            "application/vnd.jupyter.widget-view+json": {
              "version_major": 2,
              "version_minor": 0,
              "model_id": "b60898c2220341b0b82977e6b294d2f5"
            }
          },
          "metadata": {}
        },
        {
          "output_type": "display_data",
          "data": {
            "text/plain": [
              "spiece.model:   0%|          | 0.00/1.91M [00:00<?, ?B/s]"
            ],
            "application/vnd.jupyter.widget-view+json": {
              "version_major": 2,
              "version_minor": 0,
              "model_id": "4f2a5c39d0674d3585c966d1dc9facba"
            }
          },
          "metadata": {}
        },
        {
          "output_type": "display_data",
          "data": {
            "text/plain": [
              "tokenizer.json: 0.00B [00:00, ?B/s]"
            ],
            "application/vnd.jupyter.widget-view+json": {
              "version_major": 2,
              "version_minor": 0,
              "model_id": "13a1f2b0873a45f18fabf3ada27f06f3"
            }
          },
          "metadata": {}
        },
        {
          "output_type": "display_data",
          "data": {
            "text/plain": [
              "special_tokens_map.json:   0%|          | 0.00/65.0 [00:00<?, ?B/s]"
            ],
            "application/vnd.jupyter.widget-view+json": {
              "version_major": 2,
              "version_minor": 0,
              "model_id": "0a33790f7ce7428b8e1fe190366d78d3"
            }
          },
          "metadata": {}
        },
        {
          "output_type": "stream",
          "name": "stderr",
          "text": [
            "Device set to use cuda:0\n",
            "Your max_length is set to 150, but your input_length is only 92. Since this is a summarization task, where outputs shorter than the input are typically wanted, you might consider decreasing max_length manually, e.g. summarizer('...', max_length=46)\n"
          ]
        },
        {
          "output_type": "stream",
          "name": "stdout",
          "text": [
            "Pegasus Summary:\n",
            "In our series of letters from African journalists, film-maker, and columnist Ahmed Rashid looks at some of the key issues surrounding artificial intelligence and its potential impact on the world around us, as well as some of the best examples of how the technology is being used.\n",
            "\n"
          ]
        },
        {
          "output_type": "display_data",
          "data": {
            "text/plain": [
              "tokenizer_config.json:   0%|          | 0.00/25.0 [00:00<?, ?B/s]"
            ],
            "application/vnd.jupyter.widget-view+json": {
              "version_major": 2,
              "version_minor": 0,
              "model_id": "e0e513364ad745d5bcf7d33405847f78"
            }
          },
          "metadata": {}
        },
        {
          "output_type": "display_data",
          "data": {
            "text/plain": [
              "config.json: 0.00B [00:00, ?B/s]"
            ],
            "application/vnd.jupyter.widget-view+json": {
              "version_major": 2,
              "version_minor": 0,
              "model_id": "6bb619795a96457f8d1d1b0dae59f1a7"
            }
          },
          "metadata": {}
        },
        {
          "output_type": "display_data",
          "data": {
            "text/plain": [
              "spiece.model:   0%|          | 0.00/792k [00:00<?, ?B/s]"
            ],
            "application/vnd.jupyter.widget-view+json": {
              "version_major": 2,
              "version_minor": 0,
              "model_id": "5f2c047c0c7846228a6fabe5e3ad3858"
            }
          },
          "metadata": {}
        },
        {
          "output_type": "display_data",
          "data": {
            "text/plain": [
              "special_tokens_map.json: 0.00B [00:00, ?B/s]"
            ],
            "application/vnd.jupyter.widget-view+json": {
              "version_major": 2,
              "version_minor": 0,
              "model_id": "5d0d1f2f6ec84f0ca9495bb0dd155572"
            }
          },
          "metadata": {}
        },
        {
          "output_type": "stream",
          "name": "stderr",
          "text": [
            "You are using the default legacy behaviour of the <class 'transformers.models.t5.tokenization_t5.T5Tokenizer'>. This is expected, and simply means that the `legacy` (previous) behavior will be used so nothing changes for you. If you want to use the new behaviour, set `legacy=False`. This should only be set if you understand what it means, and thoroughly read the reason why this was added as explained in https://github.com/huggingface/transformers/pull/24565\n"
          ]
        },
        {
          "output_type": "display_data",
          "data": {
            "text/plain": [
              "pytorch_model.bin:   0%|          | 0.00/892M [00:00<?, ?B/s]"
            ],
            "application/vnd.jupyter.widget-view+json": {
              "version_major": 2,
              "version_minor": 0,
              "model_id": "18f825a462f246e7af72d04fc65bdc85"
            }
          },
          "metadata": {}
        },
        {
          "output_type": "display_data",
          "data": {
            "text/plain": [
              "model.safetensors:   0%|          | 0.00/892M [00:00<?, ?B/s]"
            ],
            "application/vnd.jupyter.widget-view+json": {
              "version_major": 2,
              "version_minor": 0,
              "model_id": "badf3289eb004b9486f8db27d98d4d74"
            }
          },
          "metadata": {}
        },
        {
          "output_type": "stream",
          "name": "stdout",
          "text": [
            "T5 Paraphrase:\n",
            "If AI has the potential to change everything, it should be taken seriously and used as a tool of choice.\n",
            "\n"
          ]
        },
        {
          "output_type": "display_data",
          "data": {
            "text/plain": [
              "tokenizer_config.json:   0%|          | 0.00/332 [00:00<?, ?B/s]"
            ],
            "application/vnd.jupyter.widget-view+json": {
              "version_major": 2,
              "version_minor": 0,
              "model_id": "1405fb8f868c4e33872ef0cd0fb840ad"
            }
          },
          "metadata": {}
        },
        {
          "output_type": "display_data",
          "data": {
            "text/plain": [
              "vocab.json: 0.00B [00:00, ?B/s]"
            ],
            "application/vnd.jupyter.widget-view+json": {
              "version_major": 2,
              "version_minor": 0,
              "model_id": "665a60995432428d9ef89c2e3573d051"
            }
          },
          "metadata": {}
        },
        {
          "output_type": "display_data",
          "data": {
            "text/plain": [
              "merges.txt: 0.00B [00:00, ?B/s]"
            ],
            "application/vnd.jupyter.widget-view+json": {
              "version_major": 2,
              "version_minor": 0,
              "model_id": "d3c1a22b877e458ab08ebc33ec3760c6"
            }
          },
          "metadata": {}
        },
        {
          "output_type": "display_data",
          "data": {
            "text/plain": [
              "tokenizer.json: 0.00B [00:00, ?B/s]"
            ],
            "application/vnd.jupyter.widget-view+json": {
              "version_major": 2,
              "version_minor": 0,
              "model_id": "8b42b2eff40a4ad3b7354097986ecc7b"
            }
          },
          "metadata": {}
        },
        {
          "output_type": "display_data",
          "data": {
            "text/plain": [
              "special_tokens_map.json:   0%|          | 0.00/239 [00:00<?, ?B/s]"
            ],
            "application/vnd.jupyter.widget-view+json": {
              "version_major": 2,
              "version_minor": 0,
              "model_id": "76481ebe19354776af177786f858ab93"
            }
          },
          "metadata": {}
        },
        {
          "output_type": "display_data",
          "data": {
            "text/plain": [
              "config.json: 0.00B [00:00, ?B/s]"
            ],
            "application/vnd.jupyter.widget-view+json": {
              "version_major": 2,
              "version_minor": 0,
              "model_id": "7402bed79aeb4ae492b24fb047f61764"
            }
          },
          "metadata": {}
        },
        {
          "output_type": "display_data",
          "data": {
            "text/plain": [
              "model.safetensors:   0%|          | 0.00/1.63G [00:00<?, ?B/s]"
            ],
            "application/vnd.jupyter.widget-view+json": {
              "version_major": 2,
              "version_minor": 0,
              "model_id": "f0690a15c9f74f22ad69e5093c7b2254"
            }
          },
          "metadata": {}
        },
        {
          "output_type": "stream",
          "name": "stdout",
          "text": [
            "BART Paraphrase:\n",
            "Paraphrase: The rapid advancements in artificial intelligence have sparked both excitement and concern. On one hand, AI promises to revolutionize industries, from healthcare to finance, by improving efficiency, accuracy and productivity. On the other hand, there are growing fears about the ethical implications, job displacement and the potential misuse of AI technology.\n",
            "\n"
          ]
        },
        {
          "output_type": "display_data",
          "data": {
            "text/plain": [
              "tokenizer_config.json:   0%|          | 0.00/25.0 [00:00<?, ?B/s]"
            ],
            "application/vnd.jupyter.widget-view+json": {
              "version_major": 2,
              "version_minor": 0,
              "model_id": "bdda8a6a2d9c4647a227465607ac8f98"
            }
          },
          "metadata": {}
        },
        {
          "output_type": "display_data",
          "data": {
            "text/plain": [
              "config.json: 0.00B [00:00, ?B/s]"
            ],
            "application/vnd.jupyter.widget-view+json": {
              "version_major": 2,
              "version_minor": 0,
              "model_id": "8093cfbdad4945ad9465d8ed046b1459"
            }
          },
          "metadata": {}
        },
        {
          "output_type": "display_data",
          "data": {
            "text/plain": [
              "spiece.model:   0%|          | 0.00/792k [00:00<?, ?B/s]"
            ],
            "application/vnd.jupyter.widget-view+json": {
              "version_major": 2,
              "version_minor": 0,
              "model_id": "312f9ad55e0a4452887bc2e5c49db894"
            }
          },
          "metadata": {}
        },
        {
          "output_type": "display_data",
          "data": {
            "text/plain": [
              "special_tokens_map.json: 0.00B [00:00, ?B/s]"
            ],
            "application/vnd.jupyter.widget-view+json": {
              "version_major": 2,
              "version_minor": 0,
              "model_id": "9370ffea681241f2910b236b063d2c32"
            }
          },
          "metadata": {}
        },
        {
          "output_type": "display_data",
          "data": {
            "text/plain": [
              "model.safetensors:   0%|          | 0.00/892M [00:00<?, ?B/s]"
            ],
            "application/vnd.jupyter.widget-view+json": {
              "version_major": 2,
              "version_minor": 0,
              "model_id": "d41c6fcc899045a8a828725de715fa35"
            }
          },
          "metadata": {}
        },
        {
          "output_type": "stream",
          "name": "stdout",
          "text": [
            "Pegasus Paraphrase:\n",
            "The rapid advancements in artificial intelligence sparked both excitement and concern : on one hand, AI promises to revolutionize industries by improving efficiency, accuracy and productivity ; on the other hand, there are growing fears about ethical implications, job displacement and potential misuse of AI technology . As society grapples with these challenges , it's clear that while AI has vast potential , its development needs to be approached with caution and responsibility .\n",
            "\n",
            "\n",
            "--- Processing Text2 ---\n",
            "\n"
          ]
        },
        {
          "output_type": "stream",
          "name": "stderr",
          "text": [
            "Device set to use cuda:0\n",
            "Your max_length is set to 150, but your input_length is only 123. Since this is a summarization task, where outputs shorter than the input are typically wanted, you might consider decreasing max_length manually, e.g. summarizer('...', max_length=61)\n",
            "Both `max_new_tokens` (=256) and `max_length`(=150) seem to have been set. `max_new_tokens` will take precedence. Please refer to the documentation for more information. (https://huggingface.co/docs/transformers/main/en/main_classes/text_generation)\n"
          ]
        },
        {
          "output_type": "stream",
          "name": "stdout",
          "text": [
            "T5 Summary:\n",
            "the amazon rainforest is the largest tropical rainforest in the world . deforestation due to logging, agriculture, and mining is threatening this delicate ecosystem . Efforts are being made globally to protect the amazon, but challenges remain .\n",
            "\n"
          ]
        },
        {
          "output_type": "stream",
          "name": "stderr",
          "text": [
            "Device set to use cuda:0\n",
            "Your max_length is set to 150, but your input_length is only 113. Since this is a summarization task, where outputs shorter than the input are typically wanted, you might consider decreasing max_length manually, e.g. summarizer('...', max_length=56)\n",
            "Both `max_new_tokens` (=256) and `max_length`(=150) seem to have been set. `max_new_tokens` will take precedence. Please refer to the documentation for more information. (https://huggingface.co/docs/transformers/main/en/main_classes/text_generation)\n"
          ]
        },
        {
          "output_type": "stream",
          "name": "stdout",
          "text": [
            "BART Summary:\n",
            "The Amazon rainforest, often referred to as the \"lungs of the Earth,\" is the largest tropical rainforest in the world. It is home to an incredibly diverse range of plant and animal species, many of which are found nowhere else. The forest also plays a vital role in regulating the global climate by absorbing large amounts of carbon dioxide. However, deforestation due to logging, agriculture, and mining is threatening this delicate ecosystem. Efforts are being made globally to protect the Amazon, but challenges remain due to political, economic, and social factors.\n",
            "\n"
          ]
        },
        {
          "output_type": "stream",
          "name": "stderr",
          "text": [
            "Some weights of PegasusForConditionalGeneration were not initialized from the model checkpoint at google/pegasus-xsum and are newly initialized: ['model.decoder.embed_positions.weight', 'model.encoder.embed_positions.weight']\n",
            "You should probably TRAIN this model on a down-stream task to be able to use it for predictions and inference.\n",
            "Device set to use cuda:0\n",
            "Your max_length is set to 150, but your input_length is only 108. Since this is a summarization task, where outputs shorter than the input are typically wanted, you might consider decreasing max_length manually, e.g. summarizer('...', max_length=54)\n"
          ]
        },
        {
          "output_type": "stream",
          "name": "stdout",
          "text": [
            "Pegasus Summary:\n",
            "The Amazon rainforest, often referred to as the \"lungs of the Earth\", is the largest tropical rainforest in the world, home to an incredibly diverse range of plant and animal species, many of which are found nowhere else. The Amazon rainforest, often referred to as the \"lungs of the Earth\", is the largest tropical rainforest in the world, home to an incredibly diverse range of plant and animal species, many of which are found nowhere else.\n",
            "\n",
            "T5 Paraphrase:\n",
            "What is the lungs of the earth?\n",
            "\n",
            "BART Paraphrase:\n",
            "Paraphrase: The Amazon rainforest, often referred to as the lungs of the Earth, is home to an incredibly diverse range of plant and animal species, many of which are found nowhere else. But deforestation is threatening this delicate ecosystem.\n",
            "\n",
            "Pegasus Paraphrase:\n",
            "The Amazon rainforest, often referred to as the \"lungs of the earth,\" is the largest tropical rainforest in the world . It is home to an incredibly diverse range of plants and animal species, many of which are found nowhere else . However, the forest also plays a vital role in the global climate by absorbing large amounts of carbon dioxide . Efforts are made worldwide to protect the Amazon ecosystem, but challenges remain due to political, economic and social factors .\n",
            "\n"
          ]
        },
        {
          "output_type": "display_data",
          "data": {
            "text/plain": [
              "<Figure size 1000x600 with 1 Axes>"
            ],
            "image/png": "[encoded data removed]"
          },
          "metadata": {}
        },
        {
          "output_type": "display_data",
          "data": {
            "text/plain": [
              "<Figure size 1000x600 with 1 Axes>"
            ],
            "image/png": "[encoded data removed]"
          },
          "metadata": {}
        }
      ]
    }
  ]
}