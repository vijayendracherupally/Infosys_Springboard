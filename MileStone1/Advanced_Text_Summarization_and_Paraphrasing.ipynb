{
  "nbformat": 4,
  "nbformat_minor": 0,
  "metadata": {
    "colab": {
      "provenance": [],
      "authorship_tag": "ABX9TyPbg9MI2g2nDEECxQXRH3Ac"
    },
    "kernelspec": {
      "name": "python3",
      "display_name": "Python 3"
    },
    "language_info": {
      "name": "python"
    }
  },
  "cells": [
    {
      "cell_type": "code",
      "source": [
        "!pip install transformers torch nltk matplotlib sentence-transformers\n"
      ],
      "metadata": {
        "colab": {
          "base_uri": "https://localhost:8080/"
        },
        "id": "O77BICZ91zeq",
        "executionInfo": {
          "status": "ok",
          "timestamp": 1759038718489,
          "user_tz": -330,
          "elapsed": 16065,
          "user": {
            "displayName": "vijayendra cherupally",
            "userId": "01595561348048737651"
          }
        },
        "outputId": "d5285508-0d53-4b87-b0b5-4dad8c929424"
      },
      "execution_count": null,
      "outputs": [
        {
          "output_type": "stream",
          "name": "stdout",
          "text": [
            "Requirement already satisfied: transformers in /usr/local/lib/python3.12/dist-packages (4.56.1)\n",
            "Requirement already satisfied: torch in /usr/local/lib/python3.12/dist-packages (2.8.0+cu126)\n",
            "Requirement already satisfied: nltk in /usr/local/lib/python3.12/dist-packages (3.9.1)\n",
            "Requirement already satisfied: matplotlib in /usr/local/lib/python3.12/dist-packages (3.10.0)\n",
            "Requirement already satisfied: sentence-transformers in /usr/local/lib/python3.12/dist-packages (5.1.0)\n",
            "Requirement already satisfied: filelock in /usr/local/lib/python3.12/dist-packages (from transformers) (3.19.1)\n",
            "Requirement already satisfied: huggingface-hub<1.0,>=0.34.0 in /usr/local/lib/python3.12/dist-packages (from transformers) (0.35.0)\n",
            "Requirement already satisfied: numpy>=1.17 in /usr/local/lib/python3.12/dist-packages (from transformers) (2.0.2)\n",
            "Requirement already satisfied: packaging>=20.0 in /usr/local/lib/python3.12/dist-packages (from transformers) (25.0)\n",
            "Requirement already satisfied: pyyaml>=5.1 in /usr/local/lib/python3.12/dist-packages (from transformers) (6.0.2)\n",
            "Requirement already satisfied: regex!=2019.12.17 in /usr/local/lib/python3.12/dist-packages (from transformers) (2024.11.6)\n",
            "Requirement already satisfied: requests in /usr/local/lib/python3.12/dist-packages (from transformers) (2.32.4)\n",
            "Requirement already satisfied: tokenizers<=0.23.0,>=0.22.0 in /usr/local/lib/python3.12/dist-packages (from transformers) (0.22.0)\n",
            "Requirement already satisfied: safetensors>=0.4.3 in /usr/local/lib/python3.12/dist-packages (from transformers) (0.6.2)\n",
            "Requirement already satisfied: tqdm>=4.27 in /usr/local/lib/python3.12/dist-packages (from transformers) (4.67.1)\n",
            "Requirement already satisfied: typing-extensions>=4.10.0 in /usr/local/lib/python3.12/dist-packages (from torch) (4.15.0)\n",
            "Requirement already satisfied: setuptools in /usr/local/lib/python3.12/dist-packages (from torch) (75.2.0)\n",
            "Requirement already satisfied: sympy>=1.13.3 in /usr/local/lib/python3.12/dist-packages (from torch) (1.13.3)\n",
            "Requirement already satisfied: networkx in /usr/local/lib/python3.12/dist-packages (from torch) (3.5)\n",
            "Requirement already satisfied: jinja2 in /usr/local/lib/python3.12/dist-packages (from torch) (3.1.6)\n",
            "Requirement already satisfied: fsspec in /usr/local/lib/python3.12/dist-packages (from torch) (2025.3.0)\n",
            "Requirement already satisfied: nvidia-cuda-nvrtc-cu12==12.6.77 in /usr/local/lib/python3.12/dist-packages (from torch) (12.6.77)\n",
            "Requirement already satisfied: nvidia-cuda-runtime-cu12==12.6.77 in /usr/local/lib/python3.12/dist-packages (from torch) (12.6.77)\n",
            "Requirement already satisfied: nvidia-cuda-cupti-cu12==12.6.80 in /usr/local/lib/python3.12/dist-packages (from torch) (12.6.80)\n",
            "Requirement already satisfied: nvidia-cudnn-cu12==9.10.2.21 in /usr/local/lib/python3.12/dist-packages (from torch) (9.10.2.21)\n",
            "Requirement already satisfied: nvidia-cublas-cu12==12.6.4.1 in /usr/local/lib/python3.12/dist-packages (from torch) (12.6.4.1)\n",
            "Requirement already satisfied: nvidia-cufft-cu12==11.3.0.4 in /usr/local/lib/python3.12/dist-packages (from torch) (11.3.0.4)\n",
            "Requirement already satisfied: nvidia-curand-cu12==10.3.7.77 in /usr/local/lib/python3.12/dist-packages (from torch) (10.3.7.77)\n",
            "Requirement already satisfied: nvidia-cusolver-cu12==11.7.1.2 in /usr/local/lib/python3.12/dist-packages (from torch) (11.7.1.2)\n",
            "Requirement already satisfied: nvidia-cusparse-cu12==12.5.4.2 in /usr/local/lib/python3.12/dist-packages (from torch) (12.5.4.2)\n",
            "Requirement already satisfied: nvidia-cusparselt-cu12==0.7.1 in /usr/local/lib/python3.12/dist-packages (from torch) (0.7.1)\n",
            "Requirement already satisfied: nvidia-nccl-cu12==2.27.3 in /usr/local/lib/python3.12/dist-packages (from torch) (2.27.3)\n",
            "Requirement already satisfied: nvidia-nvtx-cu12==12.6.77 in /usr/local/lib/python3.12/dist-packages (from torch) (12.6.77)\n",
            "Requirement already satisfied: nvidia-nvjitlink-cu12==12.6.85 in /usr/local/lib/python3.12/dist-packages (from torch) (12.6.85)\n",
            "Requirement already satisfied: nvidia-cufile-cu12==1.11.1.6 in /usr/local/lib/python3.12/dist-packages (from torch) (1.11.1.6)\n",
            "Requirement already satisfied: triton==3.4.0 in /usr/local/lib/python3.12/dist-packages (from torch) (3.4.0)\n",
            "Requirement already satisfied: click in /usr/local/lib/python3.12/dist-packages (from nltk) (8.2.1)\n",
            "Requirement already satisfied: joblib in /usr/local/lib/python3.12/dist-packages (from nltk) (1.5.2)\n",
            "Requirement already satisfied: contourpy>=1.0.1 in /usr/local/lib/python3.12/dist-packages (from matplotlib) (1.3.3)\n",
            "Requirement already satisfied: cycler>=0.10 in /usr/local/lib/python3.12/dist-packages (from matplotlib) (0.12.1)\n",
            "Requirement already satisfied: fonttools>=4.22.0 in /usr/local/lib/python3.12/dist-packages (from matplotlib) (4.60.0)\n",
            "Requirement already satisfied: kiwisolver>=1.3.1 in /usr/local/lib/python3.12/dist-packages (from matplotlib) (1.4.9)\n",
            "Requirement already satisfied: pillow>=8 in /usr/local/lib/python3.12/dist-packages (from matplotlib) (11.3.0)\n",
            "Requirement already satisfied: pyparsing>=2.3.1 in /usr/local/lib/python3.12/dist-packages (from matplotlib) (3.2.4)\n",
            "Requirement already satisfied: python-dateutil>=2.7 in /usr/local/lib/python3.12/dist-packages (from matplotlib) (2.9.0.post0)\n",
            "Requirement already satisfied: scikit-learn in /usr/local/lib/python3.12/dist-packages (from sentence-transformers) (1.6.1)\n",
            "Requirement already satisfied: scipy in /usr/local/lib/python3.12/dist-packages (from sentence-transformers) (1.16.2)\n",
            "Requirement already satisfied: hf-xet<2.0.0,>=1.1.3 in /usr/local/lib/python3.12/dist-packages (from huggingface-hub<1.0,>=0.34.0->transformers) (1.1.10)\n",
            "Requirement already satisfied: six>=1.5 in /usr/local/lib/python3.12/dist-packages (from python-dateutil>=2.7->matplotlib) (1.17.0)\n",
            "Requirement already satisfied: mpmath<1.4,>=1.1.0 in /usr/local/lib/python3.12/dist-packages (from sympy>=1.13.3->torch) (1.3.0)\n",
            "Requirement already satisfied: MarkupSafe>=2.0 in /usr/local/lib/python3.12/dist-packages (from jinja2->torch) (3.0.2)\n",
            "Requirement already satisfied: charset_normalizer<4,>=2 in /usr/local/lib/python3.12/dist-packages (from requests->transformers) (3.4.3)\n",
            "Requirement already satisfied: idna<4,>=2.5 in /usr/local/lib/python3.12/dist-packages (from requests->transformers) (3.10)\n",
            "Requirement already satisfied: urllib3<3,>=1.21.1 in /usr/local/lib/python3.12/dist-packages (from requests->transformers) (2.5.0)\n",
            "Requirement already satisfied: certifi>=2017.4.17 in /usr/local/lib/python3.12/dist-packages (from requests->transformers) (2025.8.3)\n",
            "Requirement already satisfied: threadpoolctl>=3.1.0 in /usr/local/lib/python3.12/dist-packages (from scikit-learn->sentence-transformers) (3.6.0)\n"
          ]
        }
      ]
    },
    {
      "cell_type": "code",
      "source": [
        "import os\n",
        "import nltk\n",
        "import matplotlib.pyplot as plt\n",
        "from transformers import pipeline, AutoTokenizer, AutoModelForSeq2SeqLM\n",
        "from sentence_transformers import SentenceTransformer, util\n",
        "\n",
        "# Download tokenizer data\n",
        "nltk.download('punkt')\n",
        "\n",
        "# Load two text files\n",
        "def load_texts(file1, file2):\n",
        "    with open(file1, 'r', encoding='utf-8') as f1, open(file2, 'r', encoding='utf-8') as f2:\n",
        "        return f1.read(), f2.read()\n",
        "\n",
        "# Summarization pipelines\n",
        "def summarize_with_model(text, model_name, max_length=150, min_length=50):\n",
        "    summarizer = pipeline(\"summarization\", model=model_name)\n",
        "    return summarizer(text, max_length=max_length, min_length=min_length, do_sample=False)[0]['summary_text']\n",
        "\n",
        "# Paraphrasing using seq2seq model\n",
        "def paraphrase_with_model(text, model_name):\n",
        "    tokenizer = AutoTokenizer.from_pretrained(model_name)\n",
        "    model = AutoModelForSeq2SeqLM.from_pretrained(model_name)\n",
        "\n",
        "    input_text = \"paraphrase: \" + text + \" </s>\"\n",
        "    encoding = tokenizer.encode_plus(input_text, padding='longest', return_tensors=\"pt\")\n",
        "    outputs = model.generate(\n",
        "        input_ids=encoding[\"input_ids\"],\n",
        "        attention_mask=encoding[\"attention_mask\"],\n",
        "        max_length=256,\n",
        "        do_sample=True,\n",
        "        top_k=120,\n",
        "        top_p=0.95,\n",
        "        num_return_sequences=1\n",
        "    )\n",
        "    return tokenizer.decode(outputs[0], skip_special_tokens=True)\n",
        "\n",
        "# Similarity scoring\n",
        "def similarity_score(original, generated):\n",
        "    model = SentenceTransformer('paraphrase-MiniLM-L6-v2')\n",
        "    emb1 = model.encode(original, convert_to_tensor=True)\n",
        "    emb2 = model.encode(generated, convert_to_tensor=True)\n",
        "    return float(util.pytorch_cos_sim(emb1, emb2)[0])\n",
        "\n",
        "# Main workflow\n",
        "def main():\n",
        "    file1 = \"Sample1.txt\"\n",
        "    file2 = \"Sample2.txt\"\n",
        "    text1, text2 = load_texts(file1, file2)\n",
        "\n",
        "    inputs = {\"Text1\": text1, \"Text2\": text2}\n",
        "\n",
        "    # Models\n",
        "    summarization_models = {\n",
        "        \"T5\": \"t5-base\",\n",
        "        \"BART\": \"facebook/bart-base\",\n",
        "        \"Pegasus\": \"google/pegasus-xsum\"\n",
        "    }\n",
        "\n",
        "    paraphrasing_models = {\n",
        "        \"T5\": \"ramsrigouthamg/t5_paraphraser\",\n",
        "        \"BART\": \"eugenesiow/bart-paraphrase\",\n",
        "        \"Pegasus\": \"Vamsi/T5_Paraphrase_Paws\"\n",
        "    }\n",
        "\n",
        "    results = {}\n",
        "\n",
        "    # Apply models\n",
        "    for name, text in inputs.items():\n",
        "        results[name] = {\"summary\": {}, \"paraphrase\": {}, \"similarity\": {}}\n",
        "\n",
        "        print(f\"\\n--- Processing {name} ---\\n\")\n",
        "\n",
        "        # Summarization\n",
        "        for model_name, model_path in summarization_models.items():\n",
        "            summary = summarize_with_model(text, model_path)\n",
        "            sim = similarity_score(text, summary)\n",
        "            results[name][\"summary\"][model_name] = summary\n",
        "            results[name][\"similarity\"][f\"{model_name} Summary\"] = sim\n",
        "            print(f\"{model_name} Summary:\\n{summary}\\n\")\n",
        "\n",
        "        # Paraphrasing\n",
        "        for model_name, model_path in paraphrasing_models.items():\n",
        "            paraphrase = paraphrase_with_model(text, model_path)\n",
        "            sim = similarity_score(text, paraphrase)\n",
        "            results[name][\"paraphrase\"][model_name] = paraphrase\n",
        "            results[name][\"similarity\"][f\"{model_name} Paraphrase\"] = sim\n",
        "            print(f\"{model_name} Paraphrase:\\n{paraphrase}\\n\")\n",
        "\n",
        "    # Plotting results\n",
        "    for text_key in inputs:\n",
        "        similarities = results[text_key][\"similarity\"]\n",
        "        labels = list(similarities.keys())\n",
        "        scores = list(similarities.values())\n",
        "        plt.figure(figsize=(10, 6))\n",
        "        plt.barh(labels, scores, color='skyblue')\n",
        "        plt.xlabel(\"Similarity Score (0–1)\")\n",
        "        plt.title(f\"Model Similarity Comparison for {text_key}\")\n",
        "        plt.xlim(0, 1)\n",
        "        for index, value in enumerate(scores):\n",
        "            plt.text(value + 0.01, index, f\"{value:.2f}\")\n",
        "        plt.tight_layout()\n",
        "        plt.show()\n",
        "\n",
        "if __name__ == \"__main__\":\n",
        "    main()\n"
      ],
      "metadata": {
        "colab": {
          "base_uri": "https://localhost:8080/",
          "height": 1000,
          "referenced_widgets": [
            "4192ebe89bdd43238c5273d6df4401fd",
            "74262043073f46b59c0613648bd4537d",
            "9fbc136a5f9940fcb751ceb7e85c9533",
            "f506b1a5964a4afbbd1769d7d25a6279",
            "fe794e9d49fc454293b4462ff81d1542",
            "166128efd5f0475e82c70b277ea6568d",
            "c8bdaa359ac24a6e8ccf60fe93671796",
            "691ed45e7863450ea735504b575a3f2a",
            "b98dde42b30c418386ac6ceff2ed1e49",
            "4c8d4bd0d9d341c9a9432ef2ee60152c",
            "72bbef90e8bb4b44adfe7635b8cc398a",
            "659c096df79145f2ae87a61d387549d0",
            "01573b4038a4456c8a4f4e28ec0daa38",
            "8d7cc6222dfb4f609a063fdc1cc87e49",
            "58a3db92ed9646ca95c62b8839c8543a",
            "1cf8134e46864bcabb721600148a9629",
            "c65fb6f6db214dd4ae30b9980fcc53ef",
            "7f16551bb0944e89b87d5112db662528",
            "576b4694751c42d38d667beb03589573",
            "c32b9d98df02429680775fc1319680e3",
            "cd11c64bf93f4cbf96b769b6e5281728",
            "92679452015f4b59a49e34416ab0c0bc",
            "34e2c0e499774c629978fb16383a5ae4",
            "a625d19439f04c019bc2de6aa2179793",
            "d22872247a9d4863840aa8888c9efe37",
            "1903aae850d6475a85715dc403c71e5f",
            "07c85743c8074fff92119fb56cf3bc0b",
            "ff454e1c1b5c4d61a97817a4e9424c74",
            "d7bbcf0a729d4421bff468e17d235358",
            "ef696fe76aad4593b510b8d124804882",
            "2af3e7e8e90349e3b0e015849c2cfb08",
            "8959b29eba224b079bf51bbf99de43b8",
            "8987841a904944099fdd3491f95a04a8",
            "bffe9d5783d244c8b7b528d257cc38be",
            "a77af0b6c0f543dd8fa67c40f4592c45",
            "a7a95f9b476e4042be4974f027d81b03",
            "74da199f041e4632a8a07bc938cf0e09",
            "9ea8c5e769244b4491cc38520a6264b3",
            "74fcde02e9a84acc9bcb36b8a7c6159f",
            "b03c8ac9617041909561ee14865d4c43",
            "c02f50441c504754aa69a3a25c4e2ae8",
            "9cd21250d9af4bb5bb8ae0c5639f1a07",
            "201ba891cec54f5aac41dee3336fa4fd",
            "0a63ecf2c8884ee7a034ef5c12377ad0",
            "22a4f537b31c404cb65608b2587b290a",
            "3d1ea4f94785407292e930e540b5cc34",
            "a18b2b4d27a94074aa8123d7d4295ffb",
            "0a537ddb677b42aa87782a19b864c127",
            "0184a3fc9b9e4ec285b2f4de31ee7d36",
            "32e384ec49a946798ced9ba39b4ce98f",
            "0cfae28936f642b991876f584e94729a",
            "ffeefdfa0bf94131b381db4110ada6a3",
            "e165c5cda62b45c7a7dc80a2a5b9e55f",
            "dae0efa01f724b5598242c17ed847e6f",
            "8773cdda73c446acb09cc8446e46a389",
            "1c3de0cd20134de081e622de43afbca2",
            "065c3bcff0bc44398134d0359dd372b2",
            "9f7f9e4c02de43bba551ebfd756f53dd",
            "7910295b5c494bc99e34d1ffe5610c8a",
            "3c151be816b54426b1281a002b351e61",
            "441b711357184344bd3a4d0ab3465531",
            "c6a6c5e477534c94943393614ef83def",
            "a18d9dd2f4604fb499ef7ae93279ec90",
            "0b41b6068bdf479a84c88cb8955ec076",
            "67594fa4629842dda49cdfb13ce70972",
            "5386d02b6b9e49fbb57dd46dcc404409",
            "c64b5556e78443238ac342c10a3ea2bc",
            "18b45fd0702841ce99b236cd03bc47dc",
            "c17aaa4ab45f4fc695bfb48ea8d71622",
            "1ad6fc81d13645a091d1bdf504980cba",
            "9c558e897c914e91b06cb0b283b08ea9",
            "86268567edd84ce08e3b25ae941442b9",
            "2cebd3a4cdfa486799be70f8c8286f4a",
            "0a1d1308dd4d47298a16e37d2fbd5788",
            "83ff0ca6269e4857b9dfca9a9b5d1dd3",
            "9ee5de5ad8e84333a3a29eb7fcf07292",
            "373cb0897bf746fd88fccd6b5d7ce9cc",
            "e974c79ef1b140448e1c7c691b180635",
            "3ce2620627f24590a33228fbe8a6c874",
            "b8d1bfade62f434790d01d4955f7282b",
            "d7ccf4a7f3bd4336825b0c82eb3a352d",
            "bd5ad38ae007436d9abd87041ae411ba",
            "e54437695c3a4bdfb43920bb5a0ff41a",
            "337063f6b4904cdb9e84754ad8826a8b",
            "4e3094ae5c2c41bab9be968aead59983",
            "a5b815b1c3004c1b817919ef7f58e929",
            "65b5e97127a744f3930404c07e6702eb",
            "ede9dc3c105c4a9daf98ad13aa07c439",
            "e3e8a7cbcc3b4d7597dc49d3b3d040c8",
            "6e2c01fd708a4eb688b94177a81db32d",
            "b39da52f81ea4bdd859ec6664e7d7d8c",
            "73e79a462cff45768420474e44514ff0",
            "0cc47641c2144ccbb1fb9545719102f0",
            "7062d3e72f6449a9a46fd01059ab3a89",
            "b954ae311fe4452b9ed0dbfa1f51b9ab",
            "c9fc2dac9f724af1be4d0e3ef1c2b827",
            "f159e1e2d8394cf29ffe0a9505c671e1",
            "1065a9029f1c4ba69430f61a12d97d9c",
            "c5b62584ad26449d9c718f827e86878f",
            "16a8ea2c652a406e87a19a7811581820",
            "6eca812568fe43c6b3a3918ac59ad799",
            "4b0a62c2f5724a1d838db576d312e894",
            "3793bcb632c34cbb818b2c0cb7fa5b32",
            "b23f070fd9d54a159c42025a9518bc6c",
            "b324a10376f9470fa476d7857fbecd27",
            "95f1cf6384fc4e05a87e23f7b0b06370",
            "bb26fe48f9924fa69ace412be4233484",
            "ffb6a662dfda4463b6e2985c54950215",
            "0221c3159c8140e89d3ea6ed95fb4974",
            "74412dcd93cc4eb5aae7f4a9eec02065",
            "457b21a60c944683aa594d7853708095",
            "38850b0a9b694be0897cdf60ffd497e8",
            "f00fe93f0e04492ca9d706d7d965b1a4",
            "eb391f75662a4f758e38b43992bb1db8",
            "5dc056b102354a8b9a79cb3acd2fa7d2",
            "ec909707ee0849efbee2fbf81b7b3680",
            "466e67733f614cf8b426e821158ee8b9",
            "42a5c2f09012444ea5e90ee80fa7fe33",
            "0f3bb82158f343718eff04e52e6ff511",
            "e3a29662aeb64005a62e4874d6030624",
            "113314ddbd914e46b2ae7ca85e579f44",
            "6a891b9bb7454c678db8c370e9f47160",
            "92483a2ea1ec40deb252d1c216f971be",
            "b129cad9bc494270843bd91fca959701",
            "bb13f8334d234221b85920b7972f24b7",
            "6886db12019f4cba93e4aae68f303072",
            "c75152cd5a704743a78fa320f499d4e4",
            "acad5042873545fbaffc4d61d352b750",
            "e2a2551ac686471a8168ea102a7e6b5a",
            "04fb81ce12584a2cbe51032d99e0351a",
            "6f9736c0329048d38032e509804c5822",
            "d380e7a931e24979892c0e0c152b7680",
            "c8610b16e4c54b5c8bed7562861f5544",
            "cb925f2190ef445f893e3fb3c3430c4d",
            "9728b1f0fca54c3b9569c822ae3632a7",
            "6d51b6787ef84d1ea35d20e06d7e6dfc",
            "46160373b43f40deb585157e8f0b0154",
            "5bf716bcb5324ee0b564b075a7181072",
            "be05592d3d2c452989fe0e405b5c886a",
            "8b82e44444a64529b51f4aa366da4793",
            "5e38c3e9de40476f85a6bc0cc14387f4",
            "766c16d90ba8466abcefbb934ba2b002",
            "5141c8a631c84cc5972bd9f37a8e1623",
            "9411136ae5a04796988a51dffefd717d",
            "4a8442aacc0d430b9e5b88500c9dc10f",
            "98699a10a4184e1aab363a649d9da87e",
            "dc78995647114484ad150ebfa173c7fa",
            "bac2de000aef4817b9af3b016a7d4c48",
            "8f4a7ed1e9b64163a4e064d36122c21a",
            "b692446cf7974f709056a9dd527d6e2f",
            "2d98ea95f3d94cc6a2dca66fe6ced83d",
            "e254d00c2c064425826e7e3a94f67571",
            "cc95c5b0275c48ff88c5ad11d0f1aa09",
            "2a267d277e8441359e29c34cb543ffe7",
            "45019ebb022049aea22326fb98ae3fc4",
            "14183c0a8b2c48f9bd447a43ffc44107",
            "8aaeb6423a9049ed8840a64c863cc8b5",
            "5e1dd91e11b74cd195a578991ef7d686",
            "9f7f8e6c304b4206ad084a24de1b31a0",
            "0ab6bfc32e2343e59734da618e512ebb",
            "05fd4a1fd4ed4ce398f5bc92f9ac2d24",
            "f46982e57ee14de0a9061d6b0ef395f0",
            "08903b572699490ab0012d6dc30e46dc",
            "730c397d99eb47c8a9beff7e8857ff1d",
            "487fd10e82b640a9be84c79344ece577",
            "ff573ee0638c4971be8f0fc99e8b9048",
            "8a907cc715424c79b9dd2c792b8783f4",
            "45a6c419c46b468cb4aa5fa9546d9fa4",
            "6f7f0538b37947bbb4302ac2071e0604",
            "d8bde6ca1350410bb48264bff48d8bbc",
            "4c76db60110944698d58f212a78b02d8",
            "051a9e25343d4371b226aa410d6e0975",
            "b75a1e13d31b45af982f2db82d69c610",
            "e2643e2298074b7e9f836e8e3d70eccf",
            "c5385d3dcba0414dad15a36f7b087945",
            "454f701d33914cb3b1382f55a9beeeb2",
            "5253c4f20f8a40f38e3e78b30bad7bf9",
            "f937b5b20b1040f2b74a21d002357bb0",
            "88aa2e8c24f34d4da6dd75feb4b83e21",
            "23842e5e2c2c4c3dbe42c7448ae0e517",
            "5f35f2203d584288992df1e6dd94f636",
            "07ac2365a1b540f2a813e6c8f5a86b12",
            "891e00cf13d145ebaf57763e8fba020f",
            "77a4887c4ebc4fe5b767c27424a38095",
            "4ac12722cdb549e190d79379a3b0dbcc",
            "0d716272a83e48ada3b883fdf7b71bef",
            "433056d7e90241f4994a8b36b249cf58",
            "143a601dba8f49c6a0e0d0ed2fd7d6d0",
            "147b1e1175b54aefa0d77796a9b362af",
            "5257350f462f44de9ebdd0d75d63b162",
            "acb52a8acc0e474facab8cafe4db59ee",
            "3fdcd332d6da4defbbd96f30e30a07ff",
            "7e5abfc5e7d64ac8baf38e82622ed336",
            "fa05d26f9e0a49068985fab356403c93",
            "156fa92c761e4de38d5801ae1f683a3f",
            "4813f1f54aa149f48d7b513148bfda79",
            "63e94eedf7884bf99697d5d3a3f1d2ed",
            "9c59fb8647a84ea38afb39ae422a76e9",
            "656fd845574343aba0c97e8b8f1a9544",
            "97a3810c562c4316a6c7618f3965b4d6",
            "ef40bfc462d34128b12cb15d52aa1d3b",
            "eb56160124be4625ae0242f0b34c2f2a",
            "9c0d1580f18f4a368a2f4af7b9f31c70",
            "925b6ef07ed746669e13bb11dcafc0f0",
            "191fe6747787432da166431128368138",
            "f6c4b4f30cf8468b90900c435ff7b43a",
            "51709f6c79de4710b647261a73ba5726",
            "ced64e2c23ca4c279e846f0f706306c1",
            "7b04313065d942c6a7983c4f5ae6c4e5",
            "eb40c12c940849978ef818b105a31cee",
            "ac49d54185354ea0b1859901ac54daf3",
            "f1ae9180db974385895ed059f50ac12b",
            "31fb436aef6f43f59fb0a5014b5345f9",
            "a45fc67f3f4b48eba32b60a74e0a18fa",
            "af040e22660a44a29d4e7a5dd1969296",
            "9ca3262202c648d584b78695da3242e3",
            "f4d1c2668cbb43ca982d20df3443e204",
            "4ebbdfec361843dbba322c834184c77f",
            "6988531996e84410a165a07f03ddda32",
            "a06bc67d4d56460cb4ad0cebc92de751",
            "ed5e122a7cb34489aab04ea23102591d",
            "3bdf07f7a42c4c00a2609cda2a08d0ec",
            "949b2b48360a4c6d969fafefb19e416c",
            "c28366b601664486bdc9195665fec5c4",
            "f9f97004278b45db9675c51c30f3b0c0",
            "14c36dede9da449ba84145856d3954a1",
            "738c927113554d31836d1abaaf9ea231",
            "b023696ff1ae4dccbef4743697f65826",
            "5c53bac352b04cb1a9beb385dc2071ac",
            "44253857f1a544a18dd68f7f90ca1aa4",
            "4959b1a478bd4d9c962866bfdc7198d8",
            "db3b74f2b73a42258bd29b2e895b025c",
            "0ca86fbe24314da7bdc313c3ace3b036",
            "74d3d79c0b91406bb749ad92a9521402",
            "b88a665dcb3e40788035255092846c1e",
            "66316dcf27da4c20b70385a9a33629fc",
            "5790d2b6569a4cd490d15f3cb34b217c",
            "da71a28d903a4a2db968411b637b107a",
            "124a91adacdd438da32f2e0e67cdf2a2",
            "692d129a16c642799b919871e7dfc75d",
            "f7b4e7c0c6e14041992be3754bac9fe8",
            "4fb3520f89954358bd680ec37c898647",
            "d1a546930e0348a68f37d2625ffeaa36",
            "fe7fa4205da54757953cd8b36e1a6c8c",
            "7d48cb51e3894dc7968f35c3f203ba45",
            "1df9d64dd6cc4ccbaeb311ec212b2b5c",
            "a63ae785d70a40ff87da743ebce1314c",
            "355e278901c946db9a9f6aa08fa1dce0",
            "a8fb8618d0ac4a4e9c970aae4184b8a9",
            "60e9b7a95aca435ea8358ea1180402d9",
            "eec9ef9e7a3946979bedfe749b63152d",
            "f9b1e3e5124f45dabea53fe45b4a2ce5",
            "f2b2372429404aafb1d2b81a36e1270e",
            "e5edff421f274cb6aef88c4e3685eaed",
            "a958a550435e4a2b912756fcbc185f97",
            "2d936058377f49e9a66d84d95f2e9ac7",
            "77691a978a884f7cbbf194407467a21c",
            "2cf5faf2474145e4a14f638de927674b",
            "2a36f4055e2c4d3283587bd2466befce",
            "c8bf981ba3a14bfbb4987369b0ab71a2",
            "48f8bf047f4c49d8a019c74d3da7110b",
            "9c43a048f3d84b50b0cfa57a72f6fd4c",
            "f8646ad7f5bc4ec49da38d5447e824ee",
            "9f4f3093e70e4c988fa668a7189a6294",
            "cb912ba6fddf4df09c9ddc4797477d07",
            "6cf6b58ddf624fe690b640bddb8cc8be",
            "fa21d62bed8f49d6afee6ecdc2c4bcfb",
            "66a4344d2eb14f3b8a11e4a179bad3e7",
            "2352edefa0744a5096f46a3c8dffc72f",
            "adc0f690c3d74f4e8c52c57f5b69bf5c",
            "c6900ff5d8664294b2e66a44366a0681",
            "ac5f2ae7a14c4d1da9a3f3e5a1bf6487",
            "7affb0a9896745f39705ad8d3509feda",
            "77efa41c509642c8b9e022f656a06d42",
            "779e95704b1f4868b7cd15c10bb791a4",
            "3155ee7b16c543289d3698956939d369",
            "a676592296054f4881444c297f44a9b8",
            "dab050f24a1d46b686d84b24242e6a57",
            "4741f531503249cf8344883c2a2238e1",
            "5e2d513daf3e47608bb8f9aadeecdba5",
            "e5bd95670c0c4cd7b8c6ea600d7396bb",
            "10f04327ac124902936738f3ac8fd388",
            "40bae9cbff7a457b9e70c097e9860d61",
            "f255bc36ab02487aaa63d14cca99ae71",
            "7b6bc82488d147e1931d0d45f47a7c26",
            "ce5c2d6779664688be693650d80e7b6d",
            "395f2879d964497e969fdd6c9b488398",
            "6299de64292946cd9fdb731c3caced1f",
            "78a2777fcf6c4bada169de88902a7bf6",
            "4d78ff1716044ecca59c1162bdb10f5e",
            "736579e738ad46e4ba570cc577806b01",
            "a23a833ec3b6492cb4ba775572fdcc74",
            "0bfe2d296ed5469799e3d6f29dd4db7b",
            "220b89fc64134702817f37bcfcddbf65",
            "926cde0c7f074adba22a8662c19cc53c",
            "ea169ebb832647279081810044b0decb",
            "f529965df37b4b60a8cc7d090034ec8a",
            "bc28238854d645a4ac75828fa023c9f2",
            "077acb4eef58499aa12c1f52d48a8c3a",
            "418e12ef4bfc4c69a74c34f329f5b921",
            "dd8fedb5dbf249c3a3648f3cb0243300",
            "7e3a9ac34ed442139e06ea028483ae6d",
            "d520605d1c904ba7be6e23fcc69dad3d",
            "f43e2da3038a448ea3021cabd6ad7da0",
            "ec11c132c3ed4149ba1d4a18d259e3ce",
            "afeb24f7d9304768814c7df5b99a7861",
            "8c4bc7c2db264b4cae2d94b55d25e196",
            "1d5e6b7a798e4ca2afe0f41355512a5d",
            "d71769bf3cc246d5ad22a1f924ba9dd0",
            "56003719f2b844b5bf7d803b77423c14",
            "bf6853a322ed432cabbcd3f9cf9f4f14",
            "9262b1e555724b9282af939cad15dbad",
            "46f7ebaaf2c243dab8e1b2d7d5e90de5",
            "72a98ab9c4a849c79dd9d10c808cb136",
            "21afc23df7814d8c8d2b2a80581120da",
            "28cd10177f5e449c857d4900c6ca9629",
            "807b0260a8d8426dab3b9df7a07ff06a",
            "3c12d3071c3a4c6aa83f1360dee850d1",
            "cebd2c45a1b3468ca1a4580d2f75386d",
            "1a541226cef549d9b01e80a39bbeb977",
            "0029c3ad18b34c2bb98925f327a4ace4",
            "d7bc6be1225c4a8cb8095157c84f1f27",
            "111afb92b6e0486ab5d54d513d174dc8",
            "017e774c0a014e0fb886d1d16c4b1ecb",
            "dd896f29977f40199082f7bf095132b6",
            "ac6297f4776343d386ac54147aac2ef1",
            "cebb8776c329412b8c32e0a1089eabdd",
            "c774157085614be289984dfc0538ff6c",
            "6ac5bd56c68e4ca88321174b6f79a889",
            "859d3a4d1c9c4449aa75686146df974d",
            "09d7ecfd5f6a4e46873573ec08666466",
            "faa9c53817dc474da2bfefb4c1044110",
            "ed0769180a0a4f1480a13888811c1eb0",
            "a0aa745f4b7243c3badc15be6f5c9189",
            "ed407e9873fb4b68bfc18e7085f676c7",
            "95a926e9d4a04d9db9315d8a05e1002b",
            "5e64f5c721a741f4b82567a2722d5179",
            "b2aa00ba94ed41ba881b21a83d0c60e9",
            "2739eb2358fd412b993d3ae4afabe9c2",
            "9036de4dc5164da69efc804f94077c73",
            "e703c4b02c4a439891cc881753260d5d",
            "36a91800b3dd48a5a252dedc55ea3f8c",
            "60b2a4864bfd432e9e5337289e398932",
            "35b43cd413b24951a1f96b2685c246c9",
            "ca29308447ea49649e026b9f605c69c9",
            "18ce3a9043ac4b26aedce00c38ab184b",
            "6a61bed038dc42e08ce96fe1e8374317",
            "216003337ca84a8ca66b54664c495a23",
            "dd3763b37a864e4886d63490011cff7c",
            "c8e544d00aee43b29481474de2afb425",
            "1c2b1eec79e74ecb94617688d6e90628",
            "8adf9323ed1247b5ac617019726c28a5",
            "f0e6155026704b43860b2d8c181ea5b8",
            "ab7a3fe536c34cb3b5d60028c4a0bbbc",
            "8896e0fbe95b4b5aac3608d94dfc4ef3",
            "f0d505fca97741efaf95b5bad6fba250",
            "d9e751ff0a924cbd80b18524fd3f1c10",
            "700b0d841a4849789b931c41cd345fd2",
            "8f97e41853654a778277dddfed7f76a4",
            "41be21e3b12447158aacca44c4e6d22b",
            "2243405f08a5436e93c9a3113c98e0c7",
            "30a951cf620d4af98773eae6cbff5214",
            "a34436b6e9d14aaf9db203226608e334",
            "fcada9d7ec814f1681b26ad8da2078d0",
            "44d1c1746f2b464d864e9fea8929dbe6",
            "66017b60c07f49f79faabc406e4780a0",
            "2117dc14f09c47e0999ffdd210fbf911",
            "32b55affb6ce4efcb2034f46beef3a16",
            "d0faf9a0b91a4dd3a30693e73995f470",
            "d1d04367f21f482ba1d8aca2e075982e",
            "c0f159afc7bd41a98e2d66ff580f0677",
            "4bb341d2ca5044bc95e60ca6d1ea4439",
            "b98875dac4964477b62af24d66d6edf2",
            "b3c415fa05e246c8b9249ab64fc4df6e",
            "4c2b620b89114e76bf276f59bbfa0b12",
            "dfc4c76ce342453bbe30c002b61a8886",
            "f131305eadd84b31bc36959672b18082",
            "ee0ff3beaf56470eadcfde33b1b80707",
            "ea8e1ff196c74b36b57b81644cc25164",
            "d3dcdbfe4e964ce18bce07b0d0c9193e",
            "2b796ad0163b4b5b915283e5c268237f",
            "ad99a7badb364627b7062e281fcb4f08",
            "1a5b9ec132a14355b0da16474d080935",
            "a8e971d97af4457eab9e3d840210c2c1",
            "1d381061447a4dbaa2ec2d7c81cdabac",
            "c1c16fceeece48fbb82dc1e085f18de8",
            "3875c0277a604780b83e1923cf25ae9a",
            "f38f180d99af4a088b027ce6ea308d0d",
            "3e931c3214144fe5acb3c482fa35f418",
            "6a21559478e3432480c69f4c698a5dcc",
            "e66f6a3f97d64c118e46d0967c968152",
            "56ab171e183c4982801bbb9dc0def289",
            "884e2afe8da64f5082c75f8d7a809600",
            "621e72f9fb6e40578c2f3e01d66ce511",
            "31babf786d9f4e7586b35b6510992017",
            "b82e73656a62402b85d0d4ae3f27404b",
            "972c056c63e147d0ab8acce82b2ed160",
            "713c73fbbd1647dba079107e7c7dcef1",
            "bff2f489bebf4a1385a609f23cb81405",
            "71737042a08c4f7b8155b0cc4b4650cf",
            "bd0be724023b4e24bf4566371a3164fb",
            "e1f4eea32d274763badc36a8ebbe55d0",
            "dcae138d3047471b839b0b3fe69c9bc2",
            "f19c09c5beb34ea382e1d0b50e28cbc7",
            "3b6bd0f7709d473eb890a8a9cfcb2030",
            "69ea33f91c164c1ea597b9185908c2f4",
            "1ab61801e23745a5a21108314ea9e5ee",
            "faf9795e8c794e2fa53f5c22875affac",
            "cfd414226b134b1c80fc8905a04531cd",
            "d9456c097d25436b8b1626fbc1919abe",
            "38b826658bbf41408912f7f497ef4baa",
            "d0089154877d4efab72439c9e7a37dce",
            "a188dc2a93ad4939aefc38fa962dcf4f",
            "3c03e40cb5f740e284d89030a8b74628",
            "f29d89b29ff846acb58537b5172dc1c6",
            "dce1c5b525ef4c269f3beeca29414dd6",
            "2af9ff3f01f944d2974d79c00e069403",
            "9b28d74cf97e48c59ac7f789e13f211e",
            "b829456016d840bfbd9e3d2122b9f738",
            "7a92625bfba64f7c99478c08f2d49121",
            "c1d2b526b2104448946b7670cf6ed88d",
            "2f9cbcd88d2b412a98b35045a5c40c27",
            "d564a92f5e5a4937b610783c0334f9b0",
            "17ba847c44474112907714365f8eedb5",
            "2c838396046f457fa9ea142dc58c8b55",
            "740f318bceb844969f86d0a32ad063c2",
            "cf363ef5075041e59a89e5ebedade6ac",
            "71fdab76c6ff447bab6092c3f7949a8c",
            "d9707b104d27427abe2a848d6638fef2"
          ]
        },
        "id": "dkjOxPJN1zal",
        "executionInfo": {
          "status": "ok",
          "timestamp": 1759039185782,
          "user_tz": -330,
          "elapsed": 414342,
          "user": {
            "displayName": "vijayendra cherupally",
            "userId": "01595561348048737651"
          }
        },
        "outputId": "2910b015-cbd2-4962-9f4e-a248f8aff021"
      },
      "execution_count": null,
      "outputs": [
        {
          "output_type": "stream",
          "name": "stdout",
          "text": [
            "\n",
            "--- Processing Text1 ---\n",
            "\n"
          ]
        },
        {
          "output_type": "stream",
          "name": "stderr",
          "text": [
            "[nltk_data] Downloading package punkt to /root/nltk_data...\n",
            "[nltk_data]   Package punkt is already up-to-date!\n"
          ]
        },
        {
          "output_type": "display_data",
          "data": {
            "text/plain": [
              "config.json:   0%|          | 0.00/1.21k [00:00<?, ?B/s]"
            ],
            "application/vnd.jupyter.widget-view+json": {
              "version_major": 2,
              "version_minor": 0,
              "model_id": "4192ebe89bdd43238c5273d6df4401fd"
            }
          },
          "metadata": {}
        },
        {
          "output_type": "display_data",
          "data": {
            "text/plain": [
              "model.safetensors:   0%|          | 0.00/892M [00:00<?, ?B/s]"
            ],
            "application/vnd.jupyter.widget-view+json": {
              "version_major": 2,
              "version_minor": 0,
              "model_id": "659c096df79145f2ae87a61d387549d0"
            }
          },
          "metadata": {}
        },
        {
          "output_type": "display_data",
          "data": {
            "text/plain": [
              "generation_config.json:   0%|          | 0.00/147 [00:00<?, ?B/s]"
            ],
            "application/vnd.jupyter.widget-view+json": {
              "version_major": 2,
              "version_minor": 0,
              "model_id": "34e2c0e499774c629978fb16383a5ae4"
            }
          },
          "metadata": {}
        },
        {
          "output_type": "display_data",
          "data": {
            "text/plain": [
              "spiece.model:   0%|          | 0.00/792k [00:00<?, ?B/s]"
            ],
            "application/vnd.jupyter.widget-view+json": {
              "version_major": 2,
              "version_minor": 0,
              "model_id": "bffe9d5783d244c8b7b528d257cc38be"
            }
          },
          "metadata": {}
        },
        {
          "output_type": "display_data",
          "data": {
            "text/plain": [
              "tokenizer.json:   0%|          | 0.00/1.39M [00:00<?, ?B/s]"
            ],
            "application/vnd.jupyter.widget-view+json": {
              "version_major": 2,
              "version_minor": 0,
              "model_id": "22a4f537b31c404cb65608b2587b290a"
            }
          },
          "metadata": {}
        },
        {
          "output_type": "stream",
          "name": "stderr",
          "text": [
            "Device set to use cpu\n",
            "Your max_length is set to 150, but your input_length is only 99. Since this is a summarization task, where outputs shorter than the input are typically wanted, you might consider decreasing max_length manually, e.g. summarizer('...', max_length=49)\n",
            "Both `max_new_tokens` (=256) and `max_length`(=150) seem to have been set. `max_new_tokens` will take precedence. Please refer to the documentation for more information. (https://huggingface.co/docs/transformers/main/en/main_classes/text_generation)\n"
          ]
        },
        {
          "output_type": "display_data",
          "data": {
            "text/plain": [
              "modules.json:   0%|          | 0.00/229 [00:00<?, ?B/s]"
            ],
            "application/vnd.jupyter.widget-view+json": {
              "version_major": 2,
              "version_minor": 0,
              "model_id": "1c3de0cd20134de081e622de43afbca2"
            }
          },
          "metadata": {}
        },
        {
          "output_type": "display_data",
          "data": {
            "text/plain": [
              "config_sentence_transformers.json:   0%|          | 0.00/122 [00:00<?, ?B/s]"
            ],
            "application/vnd.jupyter.widget-view+json": {
              "version_major": 2,
              "version_minor": 0,
              "model_id": "c64b5556e78443238ac342c10a3ea2bc"
            }
          },
          "metadata": {}
        },
        {
          "output_type": "display_data",
          "data": {
            "text/plain": [
              "README.md: 0.00B [00:00, ?B/s]"
            ],
            "application/vnd.jupyter.widget-view+json": {
              "version_major": 2,
              "version_minor": 0,
              "model_id": "e974c79ef1b140448e1c7c691b180635"
            }
          },
          "metadata": {}
        },
        {
          "output_type": "display_data",
          "data": {
            "text/plain": [
              "sentence_bert_config.json:   0%|          | 0.00/53.0 [00:00<?, ?B/s]"
            ],
            "application/vnd.jupyter.widget-view+json": {
              "version_major": 2,
              "version_minor": 0,
              "model_id": "e3e8a7cbcc3b4d7597dc49d3b3d040c8"
            }
          },
          "metadata": {}
        },
        {
          "output_type": "display_data",
          "data": {
            "text/plain": [
              "config.json:   0%|          | 0.00/629 [00:00<?, ?B/s]"
            ],
            "application/vnd.jupyter.widget-view+json": {
              "version_major": 2,
              "version_minor": 0,
              "model_id": "16a8ea2c652a406e87a19a7811581820"
            }
          },
          "metadata": {}
        },
        {
          "output_type": "display_data",
          "data": {
            "text/plain": [
              "model.safetensors:   0%|          | 0.00/90.9M [00:00<?, ?B/s]"
            ],
            "application/vnd.jupyter.widget-view+json": {
              "version_major": 2,
              "version_minor": 0,
              "model_id": "457b21a60c944683aa594d7853708095"
            }
          },
          "metadata": {}
        },
        {
          "output_type": "display_data",
          "data": {
            "text/plain": [
              "tokenizer_config.json:   0%|          | 0.00/314 [00:00<?, ?B/s]"
            ],
            "application/vnd.jupyter.widget-view+json": {
              "version_major": 2,
              "version_minor": 0,
              "model_id": "6a891b9bb7454c678db8c370e9f47160"
            }
          },
          "metadata": {}
        },
        {
          "output_type": "display_data",
          "data": {
            "text/plain": [
              "vocab.txt: 0.00B [00:00, ?B/s]"
            ],
            "application/vnd.jupyter.widget-view+json": {
              "version_major": 2,
              "version_minor": 0,
              "model_id": "c8610b16e4c54b5c8bed7562861f5544"
            }
          },
          "metadata": {}
        },
        {
          "output_type": "display_data",
          "data": {
            "text/plain": [
              "tokenizer.json: 0.00B [00:00, ?B/s]"
            ],
            "application/vnd.jupyter.widget-view+json": {
              "version_major": 2,
              "version_minor": 0,
              "model_id": "9411136ae5a04796988a51dffefd717d"
            }
          },
          "metadata": {}
        },
        {
          "output_type": "display_data",
          "data": {
            "text/plain": [
              "special_tokens_map.json:   0%|          | 0.00/112 [00:00<?, ?B/s]"
            ],
            "application/vnd.jupyter.widget-view+json": {
              "version_major": 2,
              "version_minor": 0,
              "model_id": "45019ebb022049aea22326fb98ae3fc4"
            }
          },
          "metadata": {}
        },
        {
          "output_type": "display_data",
          "data": {
            "text/plain": [
              "config.json:   0%|          | 0.00/190 [00:00<?, ?B/s]"
            ],
            "application/vnd.jupyter.widget-view+json": {
              "version_major": 2,
              "version_minor": 0,
              "model_id": "ff573ee0638c4971be8f0fc99e8b9048"
            }
          },
          "metadata": {}
        },
        {
          "output_type": "stream",
          "name": "stdout",
          "text": [
            "T5 Summary:\n",
            "the rapid advancements in artificial intelligence have sparked both excitement and concern . there are growing fears about the ethical implications, job displacement, and the potential misuse of AI technology . as society grapples with these challenges, it's clear that while AI has vast potential, its development must be approached with caution .\n",
            "\n"
          ]
        },
        {
          "output_type": "display_data",
          "data": {
            "text/plain": [
              "config.json: 0.00B [00:00, ?B/s]"
            ],
            "application/vnd.jupyter.widget-view+json": {
              "version_major": 2,
              "version_minor": 0,
              "model_id": "5253c4f20f8a40f38e3e78b30bad7bf9"
            }
          },
          "metadata": {}
        },
        {
          "output_type": "display_data",
          "data": {
            "text/plain": [
              "model.safetensors:   0%|          | 0.00/558M [00:00<?, ?B/s]"
            ],
            "application/vnd.jupyter.widget-view+json": {
              "version_major": 2,
              "version_minor": 0,
              "model_id": "143a601dba8f49c6a0e0d0ed2fd7d6d0"
            }
          },
          "metadata": {}
        },
        {
          "output_type": "display_data",
          "data": {
            "text/plain": [
              "vocab.json: 0.00B [00:00, ?B/s]"
            ],
            "application/vnd.jupyter.widget-view+json": {
              "version_major": 2,
              "version_minor": 0,
              "model_id": "656fd845574343aba0c97e8b8f1a9544"
            }
          },
          "metadata": {}
        },
        {
          "output_type": "display_data",
          "data": {
            "text/plain": [
              "merges.txt: 0.00B [00:00, ?B/s]"
            ],
            "application/vnd.jupyter.widget-view+json": {
              "version_major": 2,
              "version_minor": 0,
              "model_id": "eb40c12c940849978ef818b105a31cee"
            }
          },
          "metadata": {}
        },
        {
          "output_type": "display_data",
          "data": {
            "text/plain": [
              "tokenizer.json: 0.00B [00:00, ?B/s]"
            ],
            "application/vnd.jupyter.widget-view+json": {
              "version_major": 2,
              "version_minor": 0,
              "model_id": "ed5e122a7cb34489aab04ea23102591d"
            }
          },
          "metadata": {}
        },
        {
          "output_type": "stream",
          "name": "stderr",
          "text": [
            "Device set to use cpu\n",
            "Your max_length is set to 150, but your input_length is only 93. Since this is a summarization task, where outputs shorter than the input are typically wanted, you might consider decreasing max_length manually, e.g. summarizer('...', max_length=46)\n",
            "Both `max_new_tokens` (=256) and `max_length`(=150) seem to have been set. `max_new_tokens` will take precedence. Please refer to the documentation for more information. (https://huggingface.co/docs/transformers/main/en/main_classes/text_generation)\n"
          ]
        },
        {
          "output_type": "stream",
          "name": "stdout",
          "text": [
            "BART Summary:\n",
            "The rapid advancements in artificial intelligence have sparked both excitement and concern. On one hand, AI promises to revolutionize industries, from healthcare to finance, by improving efficiency, accuracy, and productivity. On the other hand, there are growing fears about the ethical implications, job displacement, and the potential misuse of AI technology. As society grapples with these challenges, it's clear that while AI has vast potential, its development must be approached with caution and responsibility.\n",
            "\n"
          ]
        },
        {
          "output_type": "stream",
          "name": "stderr",
          "text": [
            "Some weights of PegasusForConditionalGeneration were not initialized from the model checkpoint at google/pegasus-xsum and are newly initialized: ['model.decoder.embed_positions.weight', 'model.encoder.embed_positions.weight']\n",
            "You should probably TRAIN this model on a down-stream task to be able to use it for predictions and inference.\n",
            "Device set to use cpu\n",
            "Your max_length is set to 150, but your input_length is only 92. Since this is a summarization task, where outputs shorter than the input are typically wanted, you might consider decreasing max_length manually, e.g. summarizer('...', max_length=46)\n"
          ]
        },
        {
          "output_type": "stream",
          "name": "stdout",
          "text": [
            "Pegasus Summary:\n",
            "In our series of letters from African journalists, film-maker, and columnist Ahmed Rashid looks at some of the key issues surrounding artificial intelligence and its potential impact on the world around us, as well as some of the best examples of how the technology is being used.\n",
            "\n"
          ]
        },
        {
          "output_type": "display_data",
          "data": {
            "text/plain": [
              "tokenizer_config.json:   0%|          | 0.00/25.0 [00:00<?, ?B/s]"
            ],
            "application/vnd.jupyter.widget-view+json": {
              "version_major": 2,
              "version_minor": 0,
              "model_id": "db3b74f2b73a42258bd29b2e895b025c"
            }
          },
          "metadata": {}
        },
        {
          "output_type": "display_data",
          "data": {
            "text/plain": [
              "config.json: 0.00B [00:00, ?B/s]"
            ],
            "application/vnd.jupyter.widget-view+json": {
              "version_major": 2,
              "version_minor": 0,
              "model_id": "d1a546930e0348a68f37d2625ffeaa36"
            }
          },
          "metadata": {}
        },
        {
          "output_type": "display_data",
          "data": {
            "text/plain": [
              "spiece.model:   0%|          | 0.00/792k [00:00<?, ?B/s]"
            ],
            "application/vnd.jupyter.widget-view+json": {
              "version_major": 2,
              "version_minor": 0,
              "model_id": "e5edff421f274cb6aef88c4e3685eaed"
            }
          },
          "metadata": {}
        },
        {
          "output_type": "display_data",
          "data": {
            "text/plain": [
              "special_tokens_map.json: 0.00B [00:00, ?B/s]"
            ],
            "application/vnd.jupyter.widget-view+json": {
              "version_major": 2,
              "version_minor": 0,
              "model_id": "cb912ba6fddf4df09c9ddc4797477d07"
            }
          },
          "metadata": {}
        },
        {
          "output_type": "stream",
          "name": "stderr",
          "text": [
            "You are using the default legacy behaviour of the <class 'transformers.models.t5.tokenization_t5.T5Tokenizer'>. This is expected, and simply means that the `legacy` (previous) behavior will be used so nothing changes for you. If you want to use the new behaviour, set `legacy=False`. This should only be set if you understand what it means, and thoroughly read the reason why this was added as explained in https://github.com/huggingface/transformers/pull/24565\n"
          ]
        },
        {
          "output_type": "display_data",
          "data": {
            "text/plain": [
              "pytorch_model.bin:   0%|          | 0.00/892M [00:00<?, ?B/s]"
            ],
            "application/vnd.jupyter.widget-view+json": {
              "version_major": 2,
              "version_minor": 0,
              "model_id": "3155ee7b16c543289d3698956939d369"
            }
          },
          "metadata": {}
        },
        {
          "output_type": "display_data",
          "data": {
            "text/plain": [
              "model.safetensors:   0%|          | 0.00/892M [00:00<?, ?B/s]"
            ],
            "application/vnd.jupyter.widget-view+json": {
              "version_major": 2,
              "version_minor": 0,
              "model_id": "395f2879d964497e969fdd6c9b488398"
            }
          },
          "metadata": {}
        },
        {
          "output_type": "stream",
          "name": "stdout",
          "text": [
            "T5 Paraphrase:\n",
            "What are the challenges facing industry in view of the rapid advancement of Artificial Intelligence?\n",
            "\n"
          ]
        },
        {
          "output_type": "display_data",
          "data": {
            "text/plain": [
              "tokenizer_config.json:   0%|          | 0.00/332 [00:00<?, ?B/s]"
            ],
            "application/vnd.jupyter.widget-view+json": {
              "version_major": 2,
              "version_minor": 0,
              "model_id": "bc28238854d645a4ac75828fa023c9f2"
            }
          },
          "metadata": {}
        },
        {
          "output_type": "display_data",
          "data": {
            "text/plain": [
              "vocab.json: 0.00B [00:00, ?B/s]"
            ],
            "application/vnd.jupyter.widget-view+json": {
              "version_major": 2,
              "version_minor": 0,
              "model_id": "d71769bf3cc246d5ad22a1f924ba9dd0"
            }
          },
          "metadata": {}
        },
        {
          "output_type": "display_data",
          "data": {
            "text/plain": [
              "merges.txt: 0.00B [00:00, ?B/s]"
            ],
            "application/vnd.jupyter.widget-view+json": {
              "version_major": 2,
              "version_minor": 0,
              "model_id": "1a541226cef549d9b01e80a39bbeb977"
            }
          },
          "metadata": {}
        },
        {
          "output_type": "display_data",
          "data": {
            "text/plain": [
              "tokenizer.json: 0.00B [00:00, ?B/s]"
            ],
            "application/vnd.jupyter.widget-view+json": {
              "version_major": 2,
              "version_minor": 0,
              "model_id": "09d7ecfd5f6a4e46873573ec08666466"
            }
          },
          "metadata": {}
        },
        {
          "output_type": "display_data",
          "data": {
            "text/plain": [
              "special_tokens_map.json:   0%|          | 0.00/239 [00:00<?, ?B/s]"
            ],
            "application/vnd.jupyter.widget-view+json": {
              "version_major": 2,
              "version_minor": 0,
              "model_id": "36a91800b3dd48a5a252dedc55ea3f8c"
            }
          },
          "metadata": {}
        },
        {
          "output_type": "display_data",
          "data": {
            "text/plain": [
              "config.json: 0.00B [00:00, ?B/s]"
            ],
            "application/vnd.jupyter.widget-view+json": {
              "version_major": 2,
              "version_minor": 0,
              "model_id": "f0e6155026704b43860b2d8c181ea5b8"
            }
          },
          "metadata": {}
        },
        {
          "output_type": "display_data",
          "data": {
            "text/plain": [
              "model.safetensors:   0%|          | 0.00/1.63G [00:00<?, ?B/s]"
            ],
            "application/vnd.jupyter.widget-view+json": {
              "version_major": 2,
              "version_minor": 0,
              "model_id": "fcada9d7ec814f1681b26ad8da2078d0"
            }
          },
          "metadata": {}
        },
        {
          "output_type": "stream",
          "name": "stdout",
          "text": [
            "BART Paraphrase:\n",
            "Paraphrase: The rapid advancements in artificial intelligence have sparked both excitement and concern. On one hand, AI promises to revolutionize industries, from healthcare to finance, by improving efficiency, accuracy and productivity. On the other hand, there are growing fears about the ethical implications, job displacement and the potential misuse of AI technology.\n",
            "\n"
          ]
        },
        {
          "output_type": "display_data",
          "data": {
            "text/plain": [
              "tokenizer_config.json:   0%|          | 0.00/25.0 [00:00<?, ?B/s]"
            ],
            "application/vnd.jupyter.widget-view+json": {
              "version_major": 2,
              "version_minor": 0,
              "model_id": "4c2b620b89114e76bf276f59bbfa0b12"
            }
          },
          "metadata": {}
        },
        {
          "output_type": "display_data",
          "data": {
            "text/plain": [
              "config.json: 0.00B [00:00, ?B/s]"
            ],
            "application/vnd.jupyter.widget-view+json": {
              "version_major": 2,
              "version_minor": 0,
              "model_id": "c1c16fceeece48fbb82dc1e085f18de8"
            }
          },
          "metadata": {}
        },
        {
          "output_type": "display_data",
          "data": {
            "text/plain": [
              "spiece.model:   0%|          | 0.00/792k [00:00<?, ?B/s]"
            ],
            "application/vnd.jupyter.widget-view+json": {
              "version_major": 2,
              "version_minor": 0,
              "model_id": "972c056c63e147d0ab8acce82b2ed160"
            }
          },
          "metadata": {}
        },
        {
          "output_type": "display_data",
          "data": {
            "text/plain": [
              "special_tokens_map.json: 0.00B [00:00, ?B/s]"
            ],
            "application/vnd.jupyter.widget-view+json": {
              "version_major": 2,
              "version_minor": 0,
              "model_id": "faf9795e8c794e2fa53f5c22875affac"
            }
          },
          "metadata": {}
        },
        {
          "output_type": "display_data",
          "data": {
            "text/plain": [
              "model.safetensors:   0%|          | 0.00/892M [00:00<?, ?B/s]"
            ],
            "application/vnd.jupyter.widget-view+json": {
              "version_major": 2,
              "version_minor": 0,
              "model_id": "b829456016d840bfbd9e3d2122b9f738"
            }
          },
          "metadata": {}
        },
        {
          "output_type": "stream",
          "name": "stdout",
          "text": [
            "Pegasus Paraphrase:\n",
            "The rapid advances in artificial intelligence have sparked both excitement and concern: On one hand, AI promises to revolutionize industries from healthcare to finance by improving efficiency, accuracy, and productivity; on the other hand, there are growing fears about the ethical implications, the loss of jobs, and the potential misuse of AI technology. As society grapples with these challenges, it is clear that while AI has enormous potential, its development must be approached with caution and responsibility .\n",
            "\n",
            "\n",
            "--- Processing Text2 ---\n",
            "\n"
          ]
        },
        {
          "output_type": "stream",
          "name": "stderr",
          "text": [
            "Device set to use cpu\n",
            "Your max_length is set to 150, but your input_length is only 123. Since this is a summarization task, where outputs shorter than the input are typically wanted, you might consider decreasing max_length manually, e.g. summarizer('...', max_length=61)\n",
            "Both `max_new_tokens` (=256) and `max_length`(=150) seem to have been set. `max_new_tokens` will take precedence. Please refer to the documentation for more information. (https://huggingface.co/docs/transformers/main/en/main_classes/text_generation)\n"
          ]
        },
        {
          "output_type": "stream",
          "name": "stdout",
          "text": [
            "T5 Summary:\n",
            "the amazon rainforest is the largest tropical rainforest in the world . deforestation due to logging, agriculture, and mining is threatening this delicate ecosystem . Efforts are being made globally to protect the amazon, but challenges remain .\n",
            "\n"
          ]
        },
        {
          "output_type": "stream",
          "name": "stderr",
          "text": [
            "Device set to use cpu\n",
            "Your max_length is set to 150, but your input_length is only 113. Since this is a summarization task, where outputs shorter than the input are typically wanted, you might consider decreasing max_length manually, e.g. summarizer('...', max_length=56)\n",
            "Both `max_new_tokens` (=256) and `max_length`(=150) seem to have been set. `max_new_tokens` will take precedence. Please refer to the documentation for more information. (https://huggingface.co/docs/transformers/main/en/main_classes/text_generation)\n"
          ]
        },
        {
          "output_type": "stream",
          "name": "stdout",
          "text": [
            "BART Summary:\n",
            "The Amazon rainforest, often referred to as the \"lungs of the Earth,\" is the largest tropical rainforest in the world. It is home to an incredibly diverse range of plant and animal species, many of which are found nowhere else. The forest also plays a vital role in regulating the global climate by absorbing large amounts of carbon dioxide. However, deforestation due to logging, agriculture, and mining is threatening this delicate ecosystem. Efforts are being made globally to protect the Amazon, but challenges remain due to political, economic, and social factors.\n",
            "\n"
          ]
        },
        {
          "output_type": "stream",
          "name": "stderr",
          "text": [
            "Some weights of PegasusForConditionalGeneration were not initialized from the model checkpoint at google/pegasus-xsum and are newly initialized: ['model.decoder.embed_positions.weight', 'model.encoder.embed_positions.weight']\n",
            "You should probably TRAIN this model on a down-stream task to be able to use it for predictions and inference.\n",
            "Device set to use cpu\n",
            "Your max_length is set to 150, but your input_length is only 108. Since this is a summarization task, where outputs shorter than the input are typically wanted, you might consider decreasing max_length manually, e.g. summarizer('...', max_length=54)\n"
          ]
        },
        {
          "output_type": "stream",
          "name": "stdout",
          "text": [
            "Pegasus Summary:\n",
            "The Amazon rainforest, often referred to as the \"lungs of the Earth\", is the largest tropical rainforest in the world, home to an incredibly diverse range of plant and animal species, many of which are found nowhere else. The Amazon rainforest, often referred to as the \"lungs of the Earth\", is the largest tropical rainforest in the world, home to an incredibly diverse range of plant and animal species, many of which are found nowhere else.\n",
            "\n",
            "T5 Paraphrase:\n",
            "This rainforest is the largest in the world, and it provides millions of unique species of plants and animals. It also protects the environment by providing a steady flow of clean, clean air and low pollution.\n",
            "\n",
            "BART Paraphrase:\n",
            "Paraphrase: The Amazon rainforest, often referred to as the lungs of the Earth, is home to an incredibly diverse range of plant and animal species, many of which are found nowhere else. But deforestation is threatening this delicate ecosystem. Efforts are being made globally to protect the Amazon, but challenges remain due to political, economic and social factors.\n",
            "\n",
            "Pegasus Paraphrase:\n",
            "The Amazon rainforest, often referred to as the \"lungs of the planet,\" is the largest tropical rainforest in the world and is home to an incredibly diverse range of plant and animal species , many of which are found nowhere else . The forest also plays a vital role in regulating the global climate by absorbing large amounts of carbon dioxide but this delicate ecosystem is threatened by deforestation due to logging, agriculture and mining .\n",
            "\n"
          ]
        },
        {
          "output_type": "display_data",
          "data": {
            "text/plain": [
              "<Figure size 1000x600 with 1 Axes>"
            ],
            "image/png": "[encoded data removed]"
          },
          "metadata": {}
        },
        {
          "output_type": "display_data",
          "data": {
            "text/plain": [
              "<Figure size 1000x600 with 1 Axes>"
            ],
            "image/png": "[encoded data removed]"
          },
          "metadata": {}
        }
      ]
    },
    {
      "cell_type": "code",
      "source": [],
      "metadata": {
        "id": "VSavRgv11zYI"
      },
      "execution_count": null,
      "outputs": []
    },
    {
      "cell_type": "code",
      "source": [],
      "metadata": {
        "id": "d2CoUBhe1zVj"
      },
      "execution_count": null,
      "outputs": []
    },
    {
      "cell_type": "code",
      "execution_count": null,
      "metadata": {
        "id": "xgBZIrrW1tiU"
      },
      "outputs": [],
      "source": []
    }
  ]
}