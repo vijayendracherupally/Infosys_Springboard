{
  "nbformat": 4,
  "nbformat_minor": 0,
  "metadata": {
    "colab": {
      "provenance": [],
      "gpuType": "T4"
    },
    "kernelspec": {
      "name": "python3",
      "display_name": "Python 3"
    },
    "language_info": {
      "name": "python"
    },
    "accelerator": "GPU"
  },
  "cells": [
    {
      "cell_type": "markdown",
      "source": [
        "# Overall Objective:\n",
        "To master the fundamentals of ipywidgets by designing, styling, and building a feature-rich, multi-tab application that includes a chat interface and file-handling tools.\n",
        "\n"
      ],
      "metadata": {
        "id": "QYdw5SiEepKT"
      }
    },
    {
      "cell_type": "markdown",
      "source": [
        "## 1. Introduction & Setup\n",
        "This first section sets up the entire environment for our project. It imports ipywidgets for creating the interactive user interface, IPython.display for rendering HTML and other rich content, and other necessary libraries like numpy and matplotlib for the data plotting tool we will build later.\n",
        "\n"
      ],
      "metadata": {
        "id": "W4LkIXEGewk0"
      }
    },
    {
      "cell_type": "code",
      "execution_count": null,
      "metadata": {
        "colab": {
          "base_uri": "https://localhost:8080/"
        },
        "id": "leyQ80qVedp9",
        "outputId": "b3f84548-aa41-453e-895b-11db136ee0b6"
      },
      "outputs": [
        {
          "output_type": "stream",
          "name": "stdout",
          "text": [
            "Setup complete. All necessary libraries are ready.\n"
          ]
        }
      ],
      "source": [
        "import ipywidgets as widgets\n",
        "from IPython.display import display, HTML\n",
        "import io\n",
        "import time\n",
        "import numpy as np\n",
        "import matplotlib.pyplot as plt\n",
        "\n",
        "print(\"Setup complete. All necessary libraries are ready.\")"
      ]
    },
    {
      "cell_type": "markdown",
      "source": [
        "## 2. Core Widget Showcase\n",
        "Before building our application, it's important to understand the basic building blocks. This section demonstrates a variety of common ipywidgets, showing what they look like and what kind of input they are used for. We will use several of these to construct our application.\n",
        "\n"
      ],
      "metadata": {
        "id": "iWJ-WZFae37O"
      }
    },
    {
      "cell_type": "code",
      "source": [
        "# --- Section 2: Core Widget Showcase ---\n",
        "print(\"--- A Showcase of Common Widgets ---\")\n",
        "\n",
        "# Create a collection of different widgets to demonstrate their functionality\n",
        "text_widget = widgets.Text(description='Name:')\n",
        "slider_widget = widgets.IntSlider(value=7, min=0, max=10, description='Count:')\n",
        "checkbox_widget = widgets.Checkbox(value=True, description='Confirm?')\n",
        "dropdown_widget = widgets.Dropdown(options=['Analysis', 'Training', 'Deployment'], description='Phase:')\n",
        "date_widget = widgets.DatePicker(description='Select Date')\n",
        "color_widget = widgets.ColorPicker(description='Pick Color', value='skyblue')\n",
        "\n",
        "# Display them all in a vertical box for a clean presentation\n",
        "showcase_box = widgets.VBox([\n",
        "    text_widget, slider_widget, checkbox_widget,\n",
        "    dropdown_widget, date_widget, color_widget\n",
        "])\n",
        "display(showcase_box)"
      ],
      "metadata": {
        "colab": {
          "base_uri": "https://localhost:8080/",
          "height": 226,
          "referenced_widgets": [
            "73ad5b67b058462d8ba10c1a896badc5",
            "ecd4aef421e042a9899342a61200b279",
            "73397c3373004c8d83dbba2e18ee1c37",
            "b32bf911332049029473c0dde807d41f",
            "a7f3a7828abe489ebea47d5ca3ed9164",
            "42992f7f0bfa4904be745565a68937a8",
            "543d6233ecb149eb8dd2a7f0bc9a87d5",
            "f98bea02ccba4d80b63bbbec374e9054",
            "6a7bc61e8c4c4a9e848a1f71706c9c86",
            "0ed05db42fc94937a3879ab8830ce95a",
            "67fbbec318b44e668806dda3961455d3",
            "b884bcbf2dc24d999c216cf1924a3cd4",
            "8d5912024a9a4698967f7548ff318690",
            "659e237650554946bf4aab6d8dce97ce",
            "40f62dccddf74348a08744f41a7b77eb",
            "f438326840b243ad930aa59203d12836",
            "359876f7ee254741949f5ea805b32966",
            "80a31cbbe15a48e5800c6f8fec9fe053",
            "b6af9fe8b7c24b34ae38c3ec0c4de915",
            "cfbe449a4aa944c4b31c2d9458adc746"
          ]
        },
        "id": "8VuyuiTse9zv",
        "outputId": "9c959731-cb97-4b4c-9229-bec2ed999399"
      },
      "execution_count": null,
      "outputs": [
        {
          "output_type": "stream",
          "name": "stdout",
          "text": [
            "--- A Showcase of Common Widgets ---\n"
          ]
        },
        {
          "output_type": "display_data",
          "data": {
            "text/plain": [
              "VBox(children=(Text(value='', description='Name:'), IntSlider(value=7, description='Count:', max=10), Checkbox…"
            ],
            "application/vnd.jupyter.widget-view+json": {
              "version_major": 2,
              "version_minor": 0,
              "model_id": "73ad5b67b058462d8ba10c1a896badc5"
            }
          },
          "metadata": {}
        }
      ]
    },
    {
      "cell_type": "markdown",
      "source": [
        "## 3. Designing a Styled Chat Interface\n",
        "This section focuses on creating the visual components for our main chat interface. We use the Layout widget to control size, borders, and margins (similar to CSS). We also use the HTML widget for a styled header and add a \"Clear\" button for better user experience. These components are then assembled into a single layout variable, chatbot_tab_content.\n",
        "\n",
        "\n",
        "\n"
      ],
      "metadata": {
        "id": "ZHoU8bVefSv5"
      }
    },
    {
      "cell_type": "code",
      "source": [
        "# --- Section 3: Styling and Assembling the Chat UI ---\n",
        "print(\"--- Building Styled Chat UI Components ---\")\n",
        "\n",
        "# An HTML widget for a styled title\n",
        "header_html = widgets.HTML(value=\"<h1 style='color: #4A90E2;'>Interactive Chat App</h1>\")\n",
        "\n",
        "# A styled Output widget for our scrollable chat history\n",
        "chat_history = widgets.Output(layout={'height': '300px', 'border': '1px solid #ccc', 'padding': '10px', 'overflow': 'scroll'})\n",
        "\n",
        "# A styled input bar with a 'Send' and 'Clear' button\n",
        "prompt_input_styled = widgets.Textarea(placeholder='Type your message...', layout={'width': 'calc(100% - 180px)'})\n",
        "send_button_styled = widgets.Button(description='Send', button_style='info', icon='paper-plane', layout={'width': '100px'})\n",
        "clear_button = widgets.Button(description='Clear', button_style='warning', icon='trash', layout={'width': '70px'})\n",
        "input_bar_styled = widgets.HBox([prompt_input_styled, send_button_styled, clear_button])\n",
        "\n",
        "# The complete layout for the chatbot tab\n",
        "chatbot_tab_content = widgets.VBox([header_html, chat_history, input_bar_styled])\n",
        "\n",
        "print(\"Styled chat UI is assembled and ready to be linked to logic.\")\n",
        "display(chatbot_tab_content)"
      ],
      "metadata": {
        "colab": {
          "base_uri": "https://localhost:8080/",
          "height": 471,
          "referenced_widgets": [
            "1111690d9e7f46b48e45940830adaa9c",
            "f281c2475b7f492d817da00e8ead9e35",
            "043b375b0e974dd484de5f455f970fe6",
            "923393e728df44efad06defc146271ab",
            "ac612dd3f1b64698b55e4542946f01c8",
            "9c5239f18a184e9797f52435477ef76a",
            "22bfbd0f96024e279a00e08e4749f550",
            "3970f8771bc1426c8315dc26e679cb07",
            "3dc067e51351448a952621b8ecb6aba8",
            "52cc17cfd524456ab7c00cba89716d04",
            "8d6b65bdf97e46f78c446c7785cff52b",
            "9d08c713238d4fc2bbbc08c22aaf1ed1",
            "012f705c2df2417db6bcb3bdf3742212",
            "5598b6434cbf439187e87d6f0a6c5aa0",
            "27476964714846bdb8b13ef350794847",
            "9525a69ceafe429ba97b605a732bba5f",
            "cad4a5e5020c4ce4ab7017a62416684f",
            "cdf2ec8e98e64a13b7867d1201ff580a"
          ]
        },
        "id": "0ZxI7nxefVuP",
        "outputId": "9a001855-3445-46ea-b5ca-5ae98f0fc1e4"
      },
      "execution_count": null,
      "outputs": [
        {
          "output_type": "stream",
          "name": "stdout",
          "text": [
            "--- Building Styled Chat UI Components ---\n",
            "Styled chat UI is assembled and ready to be linked to logic.\n"
          ]
        },
        {
          "output_type": "display_data",
          "data": {
            "text/plain": [
              "VBox(children=(HTML(value=\"<h1 style='color: #4A90E2;'>Interactive Chat App</h1>\"), Output(layout=Layout(borde…"
            ],
            "application/vnd.jupyter.widget-view+json": {
              "version_major": 2,
              "version_minor": 0,
              "model_id": "1111690d9e7f46b48e45940830adaa9c"
            }
          },
          "metadata": {}
        }
      ]
    },
    {
      "cell_type": "markdown",
      "source": [
        "## 4. Implementing the Interactive Chat Logic\n",
        "This section defines the \"brain\" of our chatbot. We create a mock backend function (get_bot_response) to simulate replies. Then, we create two \"handler\" functions: on_send_button_clicked to process user input and display the conversation, and on_clear_button_clicked to clear the chat history. The send handler also includes a \"Bot is typing...\" indicator to make the UI feel more responsive.\n",
        "\n"
      ],
      "metadata": {
        "id": "qkcpc99iiEuu"
      }
    },
    {
      "cell_type": "code",
      "source": [
        "# --- Section 4: Chatbot Logic and Handlers ---\n",
        "def get_bot_response(user_text):\n",
        "    \"\"\"A mock backend function with more keyword-based replies.\"\"\"\n",
        "    user_text_lower = user_text.lower()\n",
        "    if \"hello\" in user_text_lower: return \"Hello there! How can I assist you today?\"\n",
        "    if \"style\" in user_text_lower: return \"Styling uses `widgets.Layout` for size/borders and `HTML` for rich text.\"\n",
        "    if \"file\" in user_text_lower: return \"You can handle files with the 'File Inspector' and 'Multi-File Viewer' tabs.\"\n",
        "    if \"widget\" in user_text_lower: return \"This UI is built with `ipywidgets`! We are using VBox, HBox, Tab, Button, and Output widgets.\"\n",
        "    if \"help\" in user_text_lower: return \"You can ask me about 'hello', 'style', 'file', or 'widget'.\"\n",
        "    return f\"I am a simple mock bot. You said: '{user_text}'.\"\n",
        "\n",
        "# Handler for the \"Send\" button\n",
        "def on_send_button_clicked(b):\n",
        "    user_text = prompt_input_styled.value\n",
        "    if not user_text: return\n",
        "\n",
        "    with chat_history:\n",
        "        display(HTML(f\"<div style='background-color: #E1F5FE; padding: 8px; border-radius: 5px; margin: 5px;'><b>You:</b> {user_text}</div>\"))\n",
        "\n",
        "    send_button_styled.disabled = True\n",
        "    clear_button.disabled = True\n",
        "    with chat_history:\n",
        "        display(HTML(f\"<div style='background-color: #F1F8E9; padding: 8px; border-radius: 5px; margin: 5px;'><i>Bot is typing...</i></div>\"))\n",
        "    time.sleep(1) # Simulate a processing delay\n",
        "\n",
        "    bot_text = get_bot_response(user_text)\n",
        "    with chat_history:\n",
        "        chat_history.outputs = chat_history.outputs[:-1] # Remove the \"typing...\" message\n",
        "        display(HTML(f\"<div style='background-color: #F1F8E9; padding: 8px; border-radius: 5px; margin: 5px;'><b>Bot:</b> {bot_text}</div>\"))\n",
        "\n",
        "    prompt_input_styled.value = \"\"\n",
        "    send_button_styled.disabled = False\n",
        "    clear_button.disabled = False\n",
        "\n",
        "# Handler for the \"Clear\" button\n",
        "def on_clear_button_clicked(b):\n",
        "    chat_history.clear_output()\n",
        "\n",
        "# Link the handlers to the button click events\n",
        "send_button_styled.on_click(on_send_button_clicked)\n",
        "clear_button.on_click(on_clear_button_clicked)\n",
        "\n",
        "print(\"✅ The chatbot UI is now fully interactive!\")"
      ],
      "metadata": {
        "colab": {
          "base_uri": "https://localhost:8080/"
        },
        "id": "UjxZeLPciGvg",
        "outputId": "c1125da3-c84f-401f-d1a7-11b294ccdea0"
      },
      "execution_count": null,
      "outputs": [
        {
          "output_type": "stream",
          "name": "stdout",
          "text": [
            "✅ The chatbot UI is now fully interactive!\n"
          ]
        }
      ]
    },
    {
      "cell_type": "markdown",
      "source": [
        "## 5. Building the \"File Inspector\" Tool\n",
        "This section creates our second tool. It consists of a FileUpload widget for single-file uploads, a button, and an output area. The handler function is designed to be generic: it reads the file's metadata (name, size, type) and attempts to show a text preview if possible. This demonstrates how to handle any type of file."
      ],
      "metadata": {
        "id": "4kZKoydziRDy"
      }
    },
    {
      "cell_type": "code",
      "source": [
        "# --- Section 5: File Inspector Tool ---\n",
        "file_uploader_single = widgets.FileUpload(description='Upload File', accept='*/*')\n",
        "inspect_button = widgets.Button(description='Inspect File', button_style='primary', icon='search')\n",
        "inspector_output = widgets.Output(layout={'border': '1px solid #ccc', 'padding': '10px'})\n",
        "inspector_tab_content = widgets.VBox([widgets.HTML(\"<h3>Generic File Inspector</h3>\"), widgets.HBox([file_uploader_single, inspect_button]), inspector_output])\n",
        "\n",
        "def on_inspect_button_clicked(b):\n",
        "    with inspector_output:\n",
        "        inspector_output.clear_output(wait=True)\n",
        "        uploaded_file = file_uploader_single.value\n",
        "        if not uploaded_file: print(\"Please upload a file.\"); return\n",
        "\n",
        "        file_info = list(uploaded_file.values())[0]\n",
        "        metadata = file_info['metadata']\n",
        "\n",
        "        print(f\"--- File Metadata ---\")\n",
        "        print(f\"  - Name: {metadata['name']}\\n  - Size: {metadata['size']} bytes\\n  - Type: {metadata['type']}\")\n",
        "\n",
        "        try: print(\"\\n--- Text Preview ---\\n\" + file_info['content'].decode('utf-8')[:500] + \"...\")\n",
        "        except: print(\"\\n(Cannot display preview of this binary file type)\")\n",
        "\n",
        "inspect_button.on_click(on_inspect_button_clicked)\n",
        "print(\"File Inspector tool created and is interactive.\")\n",
        "display(inspector_tab_content) # Display this tool for testing"
      ],
      "metadata": {
        "colab": {
          "base_uri": "https://localhost:8080/",
          "height": 626,
          "referenced_widgets": [
            "e3ccc7b4b9354c9295aaebb7905f0214",
            "93957b4f479d45adb256e03e232c9043",
            "ec1aae4125e84478bc12bff1ff884c5b",
            "d7ea894314234c3b8932e7a2fa221578",
            "1936f498a456445ea53e0776ee77fa95",
            "67631a41682f4cd0bba104b536c2e0b9",
            "05c3dddda561405f8dbb992c803b0e68",
            "9532fbd0943b4f0a881eeba06c115ca3",
            "545cec45de044a6281ab2a4039a4a431",
            "57ae80a2dced42e5b2b27c58d60a2cad",
            "1b863c195c7c43f5a6722a18a227a721",
            "a322a214ec144ad1a449bec60595ab6d",
            "7f72f954160b4def9cf958157e109919",
            "916b34a5f23f4fbf9159d4d57eda1d4d",
            "6490832d63d74b42be312ccbd78a7e40"
          ]
        },
        "id": "3Ccq1S7piT2O",
        "outputId": "0feac927-8ab0-4266-a046-28abc9a31e5d"
      },
      "execution_count": null,
      "outputs": [
        {
          "output_type": "stream",
          "name": "stdout",
          "text": [
            "File Inspector tool created and is interactive.\n"
          ]
        },
        {
          "output_type": "display_data",
          "data": {
            "text/plain": [
              "VBox(children=(HTML(value='<h3>Generic File Inspector</h3>'), HBox(children=(FileUpload(value={}, accept='*/*'…"
            ],
            "application/vnd.jupyter.widget-view+json": {
              "version_major": 2,
              "version_minor": 0,
              "model_id": "e3ccc7b4b9354c9295aaebb7905f0214"
            }
          },
          "metadata": {}
        }
      ]
    },
    {
      "cell_type": "markdown",
      "source": [
        "## 6. Building the \"Interactive Data Plotter\"\n",
        "This section demonstrates a more advanced use case for ipywidgets: controlling data visualizations. We create a UI with a dropdown to select a plot type and a slider to choose the number of data points. The handler function generates random data and uses matplotlib to create and display the selected plot inside the output widget.\n",
        "\n"
      ],
      "metadata": {
        "id": "Z5QAsnbSiY1L"
      }
    },
    {
      "cell_type": "code",
      "source": [
        "# --- Section 6: Interactive Data Plotter Tool ---\n",
        "plot_type_selector = widgets.Dropdown(options=['Bar Chart', 'Line Chart', 'Scatter Plot'], description='Plot Type:')\n",
        "data_points_slider = widgets.IntSlider(value=10, min=5, max=50, description='# of Points:')\n",
        "plot_button = widgets.Button(description='Generate Plot', button_style='success', icon='bar-chart')\n",
        "plot_output = widgets.Output(layout={'border': '1px solid #ccc', 'padding': '10px'})\n",
        "plotter_tab_content = widgets.VBox([widgets.HTML(\"<h3>Interactive Data Plotter</h3>\"), widgets.HBox([plot_type_selector, data_points_slider]), plot_button, plot_output])\n",
        "\n",
        "def on_plot_button_clicked(b):\n",
        "    with plot_output:\n",
        "        plot_output.clear_output(wait=True)\n",
        "        plot_type, num_points = plot_type_selector.value, data_points_slider.value\n",
        "\n",
        "        x, y = np.arange(num_points), np.random.randint(20, 100, size=num_points)\n",
        "\n",
        "        fig, ax = plt.subplots()\n",
        "        if plot_type == 'Bar Chart': ax.bar(x, y, color='skyblue')\n",
        "        elif plot_type == 'Line Chart': ax.plot(x, y, color='coral', marker='o')\n",
        "        elif plot_type == 'Scatter Plot': ax.scatter(x, y, color='purple')\n",
        "\n",
        "        ax.set_title(f'{plot_type} with {num_points} Data Points')\n",
        "        ax.set_xlabel('X-axis')\n",
        "        ax.set_ylabel('Y-axis')\n",
        "        plt.show(fig)\n",
        "\n",
        "plot_button.on_click(on_plot_button_clicked)\n",
        "print(\"Interactive Data Plotter tool created.\")\n",
        "display(plotter_tab_content) # Display this tool for testing"
      ],
      "metadata": {
        "colab": {
          "base_uri": "https://localhost:8080/",
          "height": 627,
          "referenced_widgets": [
            "f8d8cc47dead4d558ebe8a795b4cc72e",
            "341d8e6493dd435e97961e062e68fe2e",
            "238f336eeea64f5a944c1d2b6842b133",
            "c4efb58cd3694d17a0661781d35f9a70",
            "8d94f84da3284c6db5d5cb01649691b7",
            "933b8643dfa64dd08795762fdd91508a",
            "e93c26bfd9694f2fb6306d71278b345e",
            "5ef5fb1d80464cf6a418f7d74655dbd8",
            "3ae3b36ee871477d8892e6dfb2467374",
            "2bf82457dc93419dbe728cc06ac2922a",
            "eea8d55d185b4c02a8716594e4b237de",
            "89865f3334184ad2b2879126e2ef916e",
            "967e60894e13457f8f06c9f640899bd0",
            "b73088fe0d1c433da3f8f142c1fbe559",
            "e67e258974964445ae2609ece005fdf3",
            "d8dc9d74347647d0a05775fe35341230",
            "8cc3be7b26b94dae82d45670ac87c4a3",
            "f9539545204d4ae3ba1fc9fd76b200f9"
          ]
        },
        "id": "h3anY6CEiaxR",
        "outputId": "f1997415-8273-48a7-fb26-04136250bc19"
      },
      "execution_count": null,
      "outputs": [
        {
          "output_type": "stream",
          "name": "stdout",
          "text": [
            "Interactive Data Plotter tool created.\n"
          ]
        },
        {
          "output_type": "display_data",
          "data": {
            "text/plain": [
              "VBox(children=(HTML(value='<h3>Interactive Data Plotter</h3>'), HBox(children=(Dropdown(description='Plot Type…"
            ],
            "application/vnd.jupyter.widget-view+json": {
              "version_major": 2,
              "version_minor": 0,
              "model_id": "f8d8cc47dead4d558ebe8a795b4cc72e"
            }
          },
          "metadata": {}
        }
      ]
    },
    {
      "cell_type": "markdown",
      "source": [
        "## 7. Final Assembly and Showcase\n",
        "Explanation: The final section brings all our separate tools together into a single, polished, multi-tab application. The widgets.Tab is the container, and its children are the VBox layouts we created for each of our tools.\n",
        "\n"
      ],
      "metadata": {
        "id": "6bOLIG1nihd-"
      }
    },
    {
      "cell_type": "code",
      "source": [
        "# --- Section 8: Final Multi-Tool Application ---\n",
        "\n",
        "# Create the final tab container\n",
        "final_app = widgets.Tab()\n",
        "\n",
        "# Assign the content of each tool to a tab\n",
        "final_app.children = [chatbot_tab_content, inspector_tab_content, plotter_tab_content]\n",
        "\n",
        "# Set the title for each tab\n",
        "final_app.set_title(0, 'Chatbot')\n",
        "final_app.set_title(1, 'File Inspector')\n",
        "final_app.set_title(2, 'Data Plotter')\n",
        "\n",
        "# --- Final Display ---\n",
        "print(\"=\"*50)\n",
        "print(\"    Final Multi-Tool Application is Ready!\")\n",
        "print(\"=\"*50)\n",
        "display(final_app)"
      ],
      "metadata": {
        "colab": {
          "base_uri": "https://localhost:8080/",
          "height": 723,
          "referenced_widgets": [
            "32d978a19ad14da6936f1cf8eeab8364",
            "1111690d9e7f46b48e45940830adaa9c",
            "e3ccc7b4b9354c9295aaebb7905f0214",
            "f8d8cc47dead4d558ebe8a795b4cc72e",
            "115d48787198474fb9ab70670775d5ea",
            "f281c2475b7f492d817da00e8ead9e35",
            "043b375b0e974dd484de5f455f970fe6",
            "923393e728df44efad06defc146271ab",
            "ac612dd3f1b64698b55e4542946f01c8",
            "93957b4f479d45adb256e03e232c9043",
            "ec1aae4125e84478bc12bff1ff884c5b",
            "d7ea894314234c3b8932e7a2fa221578",
            "1936f498a456445ea53e0776ee77fa95",
            "341d8e6493dd435e97961e062e68fe2e",
            "238f336eeea64f5a944c1d2b6842b133",
            "c4efb58cd3694d17a0661781d35f9a70",
            "8d94f84da3284c6db5d5cb01649691b7",
            "933b8643dfa64dd08795762fdd91508a",
            "9c5239f18a184e9797f52435477ef76a",
            "22bfbd0f96024e279a00e08e4749f550",
            "3970f8771bc1426c8315dc26e679cb07",
            "3dc067e51351448a952621b8ecb6aba8",
            "52cc17cfd524456ab7c00cba89716d04",
            "8d6b65bdf97e46f78c446c7785cff52b",
            "67631a41682f4cd0bba104b536c2e0b9",
            "05c3dddda561405f8dbb992c803b0e68",
            "9532fbd0943b4f0a881eeba06c115ca3",
            "545cec45de044a6281ab2a4039a4a431",
            "57ae80a2dced42e5b2b27c58d60a2cad",
            "e93c26bfd9694f2fb6306d71278b345e",
            "5ef5fb1d80464cf6a418f7d74655dbd8",
            "3ae3b36ee871477d8892e6dfb2467374",
            "2bf82457dc93419dbe728cc06ac2922a",
            "eea8d55d185b4c02a8716594e4b237de",
            "89865f3334184ad2b2879126e2ef916e",
            "967e60894e13457f8f06c9f640899bd0",
            "9d08c713238d4fc2bbbc08c22aaf1ed1",
            "012f705c2df2417db6bcb3bdf3742212",
            "5598b6434cbf439187e87d6f0a6c5aa0",
            "27476964714846bdb8b13ef350794847",
            "9525a69ceafe429ba97b605a732bba5f",
            "cad4a5e5020c4ce4ab7017a62416684f",
            "1b863c195c7c43f5a6722a18a227a721",
            "a322a214ec144ad1a449bec60595ab6d",
            "7f72f954160b4def9cf958157e109919",
            "916b34a5f23f4fbf9159d4d57eda1d4d",
            "b73088fe0d1c433da3f8f142c1fbe559",
            "e67e258974964445ae2609ece005fdf3",
            "d8dc9d74347647d0a05775fe35341230",
            "8cc3be7b26b94dae82d45670ac87c4a3",
            "cdf2ec8e98e64a13b7867d1201ff580a",
            "6490832d63d74b42be312ccbd78a7e40",
            "f9539545204d4ae3ba1fc9fd76b200f9"
          ]
        },
        "id": "qIcKzWqiidzj",
        "outputId": "0d6f32e7-de64-49fd-ba2e-bc197ebd293e"
      },
      "execution_count": null,
      "outputs": [
        {
          "output_type": "stream",
          "name": "stdout",
          "text": [
            "==================================================\n",
            "    Final Multi-Tool Application is Ready!\n",
            "==================================================\n"
          ]
        },
        {
          "output_type": "display_data",
          "data": {
            "text/plain": [
              "Tab(children=(VBox(children=(HTML(value=\"<h1 style='color: #4A90E2;'>Interactive Chat App</h1>\"), Output(layou…"
            ],
            "application/vnd.jupyter.widget-view+json": {
              "version_major": 2,
              "version_minor": 0,
              "model_id": "32d978a19ad14da6936f1cf8eeab8364"
            }
          },
          "metadata": {}
        }
      ]
    },
    {
      "cell_type": "code",
      "source": [],
      "metadata": {
        "id": "OB69VpjoOo8l"
      },
      "execution_count": null,
      "outputs": []
    }
  ]
}